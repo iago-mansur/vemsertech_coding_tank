{
  "cells": [
    {
      "cell_type": "markdown",
      "id": "bd275093",
      "metadata": {
        "id": "bd275093"
      },
      "source": [
        "<div style=\"background-color: lightgreen; padding: 18px;\">\n",
        "    <h1> Coding Tank | Vem Ser Tech\n",
        "</div>"
      ]
    },
    {
      "cell_type": "markdown",
      "id": "cf23d9e5",
      "metadata": {
        "id": "cf23d9e5"
      },
      "source": [
        "<div style=\"background-color: lightblue; padding: 10px;\">\n",
        "    <h2> Tópicos da aula - AULA 2\n",
        "</div>\n",
        "\n",
        "- Operadores lógicos de conjunção\n",
        "- Estrutura condicional e controle de fluxo\n",
        "- Comando if\n",
        "- Comando else\n",
        "- Comando elif\n",
        "- Funções de string (introdutório) - opcional\n",
        "\n"
      ]
    },
    {
      "cell_type": "markdown",
      "id": "643dc92b",
      "metadata": {
        "id": "643dc92b"
      },
      "source": [
        "Imagine que o critério de aprovação em uma escola seja a média superior a 7.0 e presença superior a 75%. Neste caso, o aluno precisa atender a ambos os critérios para ser aprovado. Se ele tirou uma ótima nota, mas faltou demais, será reprovado. Se ele compareceu a todas as aulas, mas teve notas baixas, idem.\n"
      ]
    },
    {
      "cell_type": "markdown",
      "id": "3b8a9808",
      "metadata": {
        "id": "3b8a9808"
      },
      "source": [
        "**Operadores lógicos**\n",
        "\n",
        "|     Operador    |                            Definição                           |     Operação    |\n",
        "|:---------------:|:--------------------------------------------------------------:|:---------------:|\n",
        "|        and      |     Retorna   True se ambas as afirmações forem verdadeiras    |         e       |\n",
        "|        or       |       Retorna   True se uma das afirmações for verdadeira      |        ou       |\n",
        "|        not      |          retorna   Falso se o resultado for verdadeiro         |        não      |\n",
        "\n",
        "\n",
        "**AND** é uma conjunção lógica e o **OR** é uma disjunção lógica. O **not** é a negação lógica.\n",
        "\n",
        "| *A*   | *B*   | *A and B* | *A or B* | *not A* |\n",
        "|-------|-------|-----------|----------|---------|\n",
        "| False | False | False     | False    | True    |\n",
        "| False | True  | False     | True     | True    |\n",
        "| True  | False | False     | True     | False   |\n",
        "| True  | True  | True      | True     | False   |\n",
        "\n",
        "\n",
        "Será que conseguimos escrever o problema acima de uma forma mais fácil?\n",
        "\n",
        "## Estrutura condicional\n",
        "\n",
        "- if\n",
        "\n",
        "Obs.: Python é uma linguagem indentada"
      ]
    },
    {
      "cell_type": "markdown",
      "id": "21328f19",
      "metadata": {
        "id": "21328f19"
      },
      "source": [
        "Está faltando alguma coisa"
      ]
    },
    {
      "cell_type": "markdown",
      "id": "223d6399",
      "metadata": {
        "id": "223d6399"
      },
      "source": [
        "- else"
      ]
    },
    {
      "cell_type": "markdown",
      "id": "36c4da02",
      "metadata": {
        "id": "36c4da02"
      },
      "source": [
        "Vamos acrescentar a presença para a aprovação do aluno"
      ]
    },
    {
      "cell_type": "markdown",
      "id": "b9e9e46f",
      "metadata": {
        "id": "b9e9e46f"
      },
      "source": [
        "- elif"
      ]
    },
    {
      "cell_type": "markdown",
      "id": "1441f388",
      "metadata": {
        "id": "1441f388"
      },
      "source": [
        "![image.png](attachment:image.png)"
      ]
    },
    {
      "cell_type": "markdown",
      "id": "0471ee21",
      "metadata": {
        "id": "0471ee21"
      },
      "source": [
        "## Saiba mais\n",
        "**Funções de strings (só uma introdução para facilitar em alguns exercícios)**\n",
        "\n",
        "Temos algumas funções prontas para alterar a capitalização das letras. Uma delas é a função upper, que transforma todas as letras da string original em maiúsculas:"
      ]
    },
    {
      "cell_type": "markdown",
      "id": "234041d6",
      "metadata": {
        "id": "234041d6"
      },
      "source": [
        "Analogamente, temos a função lower para transformar todas as letras em minúsculas:"
      ]
    },
    {
      "cell_type": "markdown",
      "id": "7b3e877e",
      "metadata": {
        "id": "7b3e877e"
      },
      "source": [
        "Também é possível formatar a string inteira como um nome próprio: primeira letra de cada palavra maiúscula, todo o restante em minúscula. Para isso temos a função title:"
      ]
    },
    {
      "cell_type": "markdown",
      "id": "8422ef8c",
      "metadata": {
        "id": "8422ef8c"
      },
      "source": [
        "E, por fim, é possível tratar nossa string como uma frase gramaticalmente correta: primeira letra maiúscula, todo o resto minúsculo. Essa função é a capitalize:"
      ]
    },
    {
      "cell_type": "markdown",
      "id": "93b4c1f2",
      "metadata": {
        "id": "93b4c1f2"
      },
      "source": [
        "Uma utilidade para essas funções é padronizar entrada de usuário. Quando pedimos para o usuário digitar 'sim' caso ele deseje fazer algo, ele pode digitar 'SIM', 'sim', 'Sim', 'sIm', 'siM', 'SIm', 'sIM' ou 'SiM'. Prever todas essas condições em uma condicional pode ser bastante trabalhoso, ou mesmo impossível. Imagine se fosse uma string de várias letras... Porém, podemos forçar um padrão para a entrada do usuário e comparar com esse padrão:"
      ]
    },
    {
      "cell_type": "markdown",
      "id": "b723013f",
      "metadata": {
        "id": "b723013f"
      },
      "source": [
        "Qualquer forma que o usuário digite a palavra 'sim' será aceita.\n",
        "\n",
        "Se quiser confirmar se dentro de uma string qo valor é um número, usamos o .isdigit(). Assim como tem o .isalpha()."
      ]
    },
    {
      "cell_type": "markdown",
      "id": "8fc83d82",
      "metadata": {
        "id": "8fc83d82"
      },
      "source": [
        "Extra: O que será que acontece quando usamos o operador + com duas strings?"
      ]
    },
    {
      "cell_type": "markdown",
      "id": "94c64b66",
      "metadata": {
        "id": "94c64b66"
      },
      "source": [
        "**Bora praticar**\n",
        "\n",
        "1) Faça um programa que peça a idade do usuário e imprima se ele é maior ou menor de 18 anos.\n",
        "\n",
        "2) Faça um programa que peça um número e mostre se ele é positivo ou negativo. Alternativa: acrescentar nulo\n",
        "\n",
        "3) Faça um programa que peça dois números e mostre o maior deles.\n",
        "\n",
        "4) Faça um programa que leia a validade das informações:\n",
        "\n",
        "a. Idade: entre 0 e 150;\n",
        "\n",
        "b. Salário: maior que 0;\n",
        "\n",
        "c. Sexo: M, F ou Outro;\n",
        "\n",
        "O programa deve imprimir uma mensagem de erro para cada informação inválida.\n",
        "\n",
        "5) Escreva um programa que peça a nota de 3 provas de um aluno e verifique se ele passou ou não de ano.\n",
        "Obs.: O aluno irá passar de ano se sua média for maior que 6.\n",
        "\n",
        "6) Faça um programa que mostre uma questão de múltipla escolha com 5 opções (letras a, b, c, d, e).\n",
        "Sabendo a resposta certa, o programa deve receber a opção do usuário e informar a letra que o usuário marcou e se a resposta está certa ou errada.\n",
        "\n",
        "7)\n",
        "Vamos fazer um programa para verificar quem é o assassino de um crime. Para descobrir o assassino,\n",
        "a polícia faz um pequeno questionário com 5 perguntas\n",
        "onde a resposta só pode ser sim ou não:\n",
        "\n",
        "a. Mora perto da vítima?\n",
        "\n",
        "b. Já trabalhou com a vítima?\n",
        "\n",
        "c. Telefonou para a vítima?\n",
        "\n",
        "d. Esteve no local do crime?\n",
        "\n",
        "e. Devia para a vítima?\n",
        "\n",
        "Cada resposta sim dá um ponto para o suspeito. A polícia considera que os suspeitos com 5 pontos são os assassinos, com 4 a 3 pontos\n",
        "são cúmplices e 2 pontos são apenas suspeitos, necessitando outras investigações. Valores iguais ou abaixo de 1 são liberados.'''\n",
        "\n",
        "8) Um produto vai sofrer aumento de acordo com a Tabela 1 abaixo. Faça um programa que peça para o usuário digitar o valor do produto de acordo\n",
        "com o preço antigo e escreva uma das mensagens da Tabela 2, de acordo com o preço reajustado:\n",
        "\n",
        "Tabela 1\n",
        "\n",
        "| Preço Antigo         | % de aumento |\n",
        "|----------------------|--------------|\n",
        "| Até 50 reais         | 5%           |\n",
        "| Entre 50 e 100 reais | 10%          |\n",
        "| De 100 a 150 reais   | 13%          |\n",
        "| Acima de 150 reais   | 15%          |\n",
        "\n",
        "Tabela 2\n",
        "\n",
        "| Preço Novo            | Mensagem   |\n",
        "|-----------------------|------------|\n",
        "| Até 80 reais          | Barato     |\n",
        "| Entre 80 e 115 reais  | Razoável   |\n",
        "| Entre 115 e 150 reais | Normal     |\n",
        "| Entre 150 e 170 reais | Caro       |\n",
        "| Acima de 170 reais    | Muito Caro |\n",
        "\n",
        "9) Desafio 1 - Faça um programa que leia 3 números e informe o maior deles.\n",
        "\n",
        "# Resolução dos exercícios\n",
        "Lembrando que não há uma única forma de resolver\n",
        "\n",
        "Coloquem as respostas em dontpad.com/turma999 e vou escolher algumas resoluções"
      ]
    },
    {
      "cell_type": "markdown",
      "id": "ecb9c538",
      "metadata": {
        "id": "ecb9c538"
      },
      "source": [
        "1) Faça um programa que peça a idade do usuário e imprima se ele é maior ou menor de 18 anos."
      ]
    },
    {
      "cell_type": "markdown",
      "id": "8854719d",
      "metadata": {
        "id": "8854719d"
      },
      "source": [
        "2) Faça um programa que peça um número e mostre se ele é positivo ou negativo. Alternativa: acrescentar zero. Desafio: acrescentar nulo"
      ]
    },
    {
      "cell_type": "markdown",
      "id": "2d29d00a",
      "metadata": {
        "id": "2d29d00a"
      },
      "source": [
        "3) Faça um programa que peça dois números e mostre o maior deles."
      ]
    },
    {
      "cell_type": "markdown",
      "id": "d1180335",
      "metadata": {
        "id": "d1180335"
      },
      "source": [
        "4) Faça um programa que leia a validade das informações:\n",
        "\n",
        "    a. Idade: entre 0 e 150;\n",
        "\n",
        "    b. Salário: maior que 0;\n",
        "\n",
        "    c. Sexo: M, F ou Outro;\n",
        "\n",
        "O programa deve imprimir uma mensagem de erro para cada informação inválida."
      ]
    },
    {
      "cell_type": "markdown",
      "id": "a8a65e5a",
      "metadata": {
        "id": "a8a65e5a"
      },
      "source": [
        "5) Escreva um programa que peça a nota de 3 provas de um aluno e verifique se ele passou ou não de ano.\n",
        "Obs.: O aluno irá passar de ano se sua média for maior que 6."
      ]
    },
    {
      "cell_type": "markdown",
      "id": "e669f8cc",
      "metadata": {
        "id": "e669f8cc"
      },
      "source": [
        "6) Faça um programa que mostre uma questão de múltipla escolha com 5 opções (letras a, b, c, d, e).\n",
        "Sabendo a resposta certa, o programa deve receber a opção do usuário e informar a letra que o usuário marcou e se a resposta está certa ou errada."
      ]
    },
    {
      "cell_type": "markdown",
      "id": "43e66438",
      "metadata": {
        "id": "43e66438"
      },
      "source": [
        "7) Vamos fazer um programa para verificar quem é o assassino de um crime. Para descobrir o assassino, a polícia faz um pequeno questionário com 5 perguntas onde a resposta só pode ser sim ou não:  \n",
        "\n",
        "\n",
        "    a. Mora perto da vítima?\n",
        "\n",
        "    b. Já trabalhou com a vítima?\n",
        "\n",
        "    c. Telefonou para a vítima?\n",
        "\n",
        "    d. Esteve no local do crime?\n",
        "\n",
        "    e. Devia para a vítima?\n",
        "\n",
        "Cada resposta sim dá um ponto para o suspeito. A polícia considera que os suspeitos com 5 pontos são os assassinos, com 4 a 3 pontos\n",
        "são cúmplices e 2 pontos são apenas suspeitos, necessitando outras investigações. Valores iguais ou abaixo de 1 são liberados."
      ]
    },
    {
      "cell_type": "markdown",
      "id": "b73da6e2",
      "metadata": {
        "id": "b73da6e2"
      },
      "source": [
        "8) Um produto vai sofrer aumento de acordo com a Tabela 1 abaixo. Faça um programa que peça para o usuário digitar o valor do produto de acordo\n",
        "com o preço antigo e escreva uma das mensagens da Tabela 2, de acordo com o preço reajustado:\n",
        "\n",
        "Tabela 1\n",
        "\n",
        "| Preço Antigo         | % de aumento |\n",
        "|----------------------|--------------|\n",
        "| Até 50 reais         | 5%           |\n",
        "| Entre 50 e 100 reais | 10%          |\n",
        "| De 100 a 150 reais   | 13%          |\n",
        "| Acima de 150 reais   | 15%          |\n",
        "\n",
        "Tabela 2\n",
        "\n",
        "| Preço Novo            | Mensagem   |\n",
        "|-----------------------|------------|\n",
        "| Até 80 reais          | Barato     |\n",
        "| Entre 80 e 115 reais  | Razoável   |\n",
        "| Entre 115 e 150 reais | Normal     |\n",
        "| Entre 150 e 170 reais | Caro       |\n",
        "| Acima de 170 reais    | Muito Caro |"
      ]
    },
    {
      "cell_type": "markdown",
      "id": "f8b8d13e",
      "metadata": {
        "id": "f8b8d13e"
      },
      "source": [
        "9) Desafio 1 - Faça um programa que leia 3 números e informe o maior deles."
      ]
    },
    {
      "cell_type": "code",
      "execution_count": null,
      "id": "a3f5bce1",
      "metadata": {
        "id": "a3f5bce1"
      },
      "outputs": [],
      "source": []
    }
  ],
  "metadata": {
    "kernelspec": {
      "display_name": "Python 3 (ipykernel)",
      "language": "python",
      "name": "python3"
    },
    "language_info": {
      "codemirror_mode": {
        "name": "ipython",
        "version": 3
      },
      "file_extension": ".py",
      "mimetype": "text/x-python",
      "name": "python",
      "nbconvert_exporter": "python",
      "pygments_lexer": "ipython3",
      "version": "3.11.0rc1"
    },
    "colab": {
      "provenance": []
    }
  },
  "nbformat": 4,
  "nbformat_minor": 5
}