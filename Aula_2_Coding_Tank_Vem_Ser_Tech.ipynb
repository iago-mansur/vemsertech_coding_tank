{
  "cells": [
    {
      "cell_type": "markdown",
      "id": "bd275093",
      "metadata": {
        "id": "bd275093"
      },
      "source": [
        "<div style=\"background-color: lightgreen; padding: 18px;\">\n",
        "    <h1> Coding Tank | Vem Ser Tech\n",
        "</div>"
      ]
    },
    {
      "cell_type": "markdown",
      "id": "cf23d9e5",
      "metadata": {
        "id": "cf23d9e5"
      },
      "source": [
        "<div style=\"background-color: lightblue; padding: 10px;\">\n",
        "    <h2> Tópicos da aula - AULA 2\n",
        "</div>\n",
        "\n",
        "- Operadores lógicos de conjunção\n",
        "- Estrutura condicional e controle de fluxo\n",
        "- Comando if\n",
        "- Comando else\n",
        "- Comando elif\n",
        "- Funções de string (introdutório) - opcional\n",
        "\n"
      ]
    },
    {
      "cell_type": "markdown",
      "id": "643dc92b",
      "metadata": {
        "id": "643dc92b"
      },
      "source": [
        "Imagine que o critério de aprovação em uma escola seja a média superior a 7.0 e presença superior a 75%. Neste caso, o aluno precisa atender a ambos os critérios para ser aprovado. Se ele tirou uma ótima nota, mas faltou demais, será reprovado. Se ele compareceu a todas as aulas, mas teve notas baixas, idem.\n"
      ]
    },
    {
      "cell_type": "code",
      "source": [
        "print(3 >= 3)\n",
        "print(3 > 3)"
      ],
      "metadata": {
        "colab": {
          "base_uri": "https://localhost:8080/"
        },
        "id": "delRp21ZyM9Z",
        "outputId": "cc461834-3b3a-4a6e-e4a0-b04a5a669005"
      },
      "id": "delRp21ZyM9Z",
      "execution_count": 10,
      "outputs": [
        {
          "output_type": "stream",
          "name": "stdout",
          "text": [
            "True\n",
            "False\n"
          ]
        }
      ]
    },
    {
      "cell_type": "code",
      "source": [
        "#Precisamos receber a media e a presença e guardar esse valores\n",
        "\n",
        "media = float(input(\"Digite a média do aluno (0 a 10): \"))\n",
        "presenca = float(input(\"Digite a presença do aluno (0 a 1): \"))\n",
        "\n",
        "aprovado = media >= 7.0 and presenca >= 0.75\n",
        "\n",
        "print(f\"O aluno foi aprovado? {aprovado}\")"
      ],
      "metadata": {
        "colab": {
          "base_uri": "https://localhost:8080/"
        },
        "id": "fPpk_cCqwq0d",
        "outputId": "70796e15-0906-4018-ba9a-870d4f827404"
      },
      "id": "fPpk_cCqwq0d",
      "execution_count": 12,
      "outputs": [
        {
          "output_type": "stream",
          "name": "stdout",
          "text": [
            "Digite a média do aluno (0 a 10): 4.3\n",
            "Digite a presença do aluno (0 a 1): 0.90\n",
            "O aluno foi aprovado? False\n"
          ]
        }
      ]
    },
    {
      "cell_type": "markdown",
      "source": [
        "Imagine um brinquedo em que uma criança entre se tiver menos de 1,50 de altura ou menos de 10 anos"
      ],
      "metadata": {
        "id": "VGSw_5ody_5t"
      },
      "id": "VGSw_5ody_5t"
    },
    {
      "cell_type": "code",
      "source": [
        "altura = float(input(\"Digite a altura da criança: \"))\n",
        "idade  = int(input(\"Digite a idade da criança: \"))\n",
        "\n",
        "\n",
        "crianca_entra = altura <= 1.50 or idade <= 10\n",
        "\n",
        "print(f\"A criança entra? {crianca_entra}\")"
      ],
      "metadata": {
        "colab": {
          "base_uri": "https://localhost:8080/"
        },
        "id": "OFXJWfu0y-37",
        "outputId": "e8898fb9-b89b-48aa-c735-761e70a3e989"
      },
      "id": "OFXJWfu0y-37",
      "execution_count": 14,
      "outputs": [
        {
          "output_type": "stream",
          "name": "stdout",
          "text": [
            "Digite a altura da criança: 1.60\n",
            "Digite a idade da criança: 12\n",
            "A criança entra? False\n"
          ]
        }
      ]
    },
    {
      "cell_type": "code",
      "source": [
        "# Pessoa pode votar\n",
        "\n",
        "\n",
        "obrigado_a_votar = idade >= 18 or idade <= 65\n",
        "\n"
      ],
      "metadata": {
        "colab": {
          "base_uri": "https://localhost:8080/"
        },
        "id": "W8lYsxV9zzwt",
        "outputId": "3ec4cd51-d8dc-466a-cb7d-9747579465f3"
      },
      "id": "W8lYsxV9zzwt",
      "execution_count": 15,
      "outputs": [
        {
          "output_type": "execute_result",
          "data": {
            "text/plain": [
              "True"
            ]
          },
          "metadata": {},
          "execution_count": 15
        }
      ]
    },
    {
      "cell_type": "markdown",
      "id": "3b8a9808",
      "metadata": {
        "id": "3b8a9808"
      },
      "source": [
        "**Operadores lógicos**\n",
        "\n",
        "|     Operador    |                            Definição                           |     Operação    |\n",
        "|:---------------:|:--------------------------------------------------------------:|:---------------:|\n",
        "|        and      |     Retorna   True se ambas as afirmações forem verdadeiras    |         e       |\n",
        "|        or       |       Retorna   True se uma das afirmações for verdadeira      |        ou       |\n",
        "|        not      |          retorna   Falso se o resultado for verdadeiro         |        não      |\n",
        "\n",
        "\n",
        "**AND** é uma conjunção lógica e o **OR** é uma disjunção lógica. O **not** é a negação lógica.\n",
        "\n",
        "| *A*   | *B*   | *A and B* | *A or B* | *not A* |\n",
        "|-------|-------|-----------|----------|---------|\n",
        "| False | False | False     | False    | True    |\n",
        "| False | True  | False     | True     | True    |\n",
        "| True  | False | False     | True     | False   |\n",
        "| True  | True  | True      | True     | False   |\n",
        "\n",
        "\n",
        "Será que conseguimos escrever o problema acima de uma forma mais fácil?\n",
        "\n",
        "## Estrutura condicional\n",
        "\n",
        "- if\n",
        "\n",
        "Obs.: Python é uma linguagem indentada"
      ]
    },
    {
      "cell_type": "markdown",
      "id": "21328f19",
      "metadata": {
        "id": "21328f19"
      },
      "source": [
        "Está faltando alguma coisa"
      ]
    },
    {
      "cell_type": "code",
      "source": [
        "#nota1 = float(input('Digite a nota 1: '))\n",
        "#nota2 = float(input('Digite a nota 2: '))\n",
        "\n",
        "#media = (nota1 + nota2)/2\n",
        "\n",
        "media = 5.0\n",
        "frequencia = 0.8\n",
        "\n",
        "# SE media >= 7.0 é True execute algo\n",
        "\n",
        "if media >= 7.0:\n",
        "  print(\"Aprovado\")\n",
        "\n",
        "if media < 7:\n",
        "  print(\"Reprovado\")\n"
      ],
      "metadata": {
        "colab": {
          "base_uri": "https://localhost:8080/"
        },
        "id": "Yxa9T6Vm1Zc9",
        "outputId": "91ced843-8ae7-485f-a114-1283df921e56"
      },
      "id": "Yxa9T6Vm1Zc9",
      "execution_count": 28,
      "outputs": [
        {
          "output_type": "stream",
          "name": "stdout",
          "text": [
            "Reprovado\n"
          ]
        }
      ]
    },
    {
      "cell_type": "markdown",
      "id": "223d6399",
      "metadata": {
        "id": "223d6399"
      },
      "source": [
        "- else"
      ]
    },
    {
      "cell_type": "code",
      "source": [
        "media = 5.0\n",
        "\n",
        "if media >= 7.0:\n",
        "  print(\"Aprovado\")\n",
        "\n",
        "else:               # O bloco dentro do else será executado quando a condição dentro do if for False\n",
        "  print(\"Reprovado\")"
      ],
      "metadata": {
        "colab": {
          "base_uri": "https://localhost:8080/"
        },
        "id": "V7TvBDrg4il2",
        "outputId": "03f11d57-31f7-402b-dea8-650fb8f7c4ca"
      },
      "id": "V7TvBDrg4il2",
      "execution_count": 29,
      "outputs": [
        {
          "output_type": "stream",
          "name": "stdout",
          "text": [
            "Reprovado\n"
          ]
        }
      ]
    },
    {
      "cell_type": "markdown",
      "id": "36c4da02",
      "metadata": {
        "id": "36c4da02"
      },
      "source": [
        "Vamos acrescentar a presença para a aprovação do aluno"
      ]
    },
    {
      "cell_type": "markdown",
      "id": "b9e9e46f",
      "metadata": {
        "id": "b9e9e46f"
      },
      "source": [
        "- elif"
      ]
    },
    {
      "cell_type": "markdown",
      "source": [
        "Se um aluno tiver média maior que 5.0 ele está aprovado. Se a nota dele for entre 5.0 e 3.0 ele está de recuperação. Se a nota for menor 3.0 ele está reprovado."
      ],
      "metadata": {
        "id": "kVzf8A6P5fK6"
      },
      "id": "kVzf8A6P5fK6"
    },
    {
      "cell_type": "code",
      "source": [
        "media = 4.8\n",
        "\n",
        "if media >= 5.0:\n",
        "  print(\"Aprovado\")\n",
        "\n",
        "elif media >= 4.5:\n",
        "  print(\"Quase Lá, mas ta de recuperação\")\n",
        "\n",
        "elif media >= 3:  #O elif é executado quando o if falhar e quando todos os elifs anteriores falharem e a condição for verdadeira\n",
        "  print(\"Recupeção\")\n",
        "\n",
        "else:        # O else executa quando o if falha e todos os elif's falham\n",
        "  print(\"Reprovado\")"
      ],
      "metadata": {
        "colab": {
          "base_uri": "https://localhost:8080/"
        },
        "id": "zPS8BfOw5rVu",
        "outputId": "429769b9-b495-433a-bc3a-7fec9575f5b2"
      },
      "id": "zPS8BfOw5rVu",
      "execution_count": 37,
      "outputs": [
        {
          "output_type": "stream",
          "name": "stdout",
          "text": [
            "Quase Lá, mas ta de recuperação\n"
          ]
        }
      ]
    },
    {
      "cell_type": "markdown",
      "id": "1441f388",
      "metadata": {
        "id": "1441f388"
      },
      "source": [
        "![image.png](attachment:image.png)"
      ]
    },
    {
      "cell_type": "markdown",
      "id": "0471ee21",
      "metadata": {
        "id": "0471ee21"
      },
      "source": [
        "## Saiba mais\n",
        "**Funções de strings (só uma introdução para facilitar em alguns exercícios)**\n",
        "\n",
        "Temos algumas funções prontas para alterar a capitalização das letras. Uma delas é a função upper, que transforma todas as letras da string original em maiúsculas:"
      ]
    },
    {
      "cell_type": "markdown",
      "id": "234041d6",
      "metadata": {
        "id": "234041d6"
      },
      "source": [
        "Analogamente, temos a função lower para transformar todas as letras em minúsculas:"
      ]
    },
    {
      "cell_type": "markdown",
      "id": "7b3e877e",
      "metadata": {
        "id": "7b3e877e"
      },
      "source": [
        "Também é possível formatar a string inteira como um nome próprio: primeira letra de cada palavra maiúscula, todo o restante em minúscula. Para isso temos a função title:"
      ]
    },
    {
      "cell_type": "markdown",
      "id": "8422ef8c",
      "metadata": {
        "id": "8422ef8c"
      },
      "source": [
        "E, por fim, é possível tratar nossa string como uma frase gramaticalmente correta: primeira letra maiúscula, todo o resto minúsculo. Essa função é a capitalize:"
      ]
    },
    {
      "cell_type": "markdown",
      "id": "93b4c1f2",
      "metadata": {
        "id": "93b4c1f2"
      },
      "source": [
        "Uma utilidade para essas funções é padronizar entrada de usuário. Quando pedimos para o usuário digitar 'sim' caso ele deseje fazer algo, ele pode digitar 'SIM', 'sim', 'Sim', 'sIm', 'siM', 'SIm', 'sIM' ou 'SiM'. Prever todas essas condições em uma condicional pode ser bastante trabalhoso, ou mesmo impossível. Imagine se fosse uma string de várias letras... Porém, podemos forçar um padrão para a entrada do usuário e comparar com esse padrão:"
      ]
    },
    {
      "cell_type": "markdown",
      "id": "b723013f",
      "metadata": {
        "id": "b723013f"
      },
      "source": [
        "Qualquer forma que o usuário digite a palavra 'sim' será aceita.\n",
        "\n",
        "Se quiser confirmar se dentro de uma string qo valor é um número, usamos o .isdigit(). Assim como tem o .isalpha()."
      ]
    },
    {
      "cell_type": "markdown",
      "id": "8fc83d82",
      "metadata": {
        "id": "8fc83d82"
      },
      "source": [
        "Extra: O que será que acontece quando usamos o operador + com duas strings?"
      ]
    },
    {
      "cell_type": "markdown",
      "id": "94c64b66",
      "metadata": {
        "id": "94c64b66"
      },
      "source": [
        "**Bora praticar**\n",
        "\n",
        "1) Faça um programa que peça a idade do usuário e imprima se ele é maior ou menor de 18 anos.\n",
        "\n",
        "2) Faça um programa que peça um número e mostre se ele é positivo ou negativo. Alternativa: acrescentar nulo\n",
        "\n",
        "3) Faça um programa que peça dois números e mostre o maior deles.\n",
        "\n",
        "4) Faça um programa que leia a validade das informações:\n",
        "\n",
        "a. Idade: entre 0 e 150;\n",
        "\n",
        "b. Salário: maior que 0;\n",
        "\n",
        "c. Sexo: M, F ou Outro;\n",
        "\n",
        "O programa deve imprimir uma mensagem de erro para cada informação inválida.\n",
        "\n",
        "5) Escreva um programa que peça a nota de 3 provas de um aluno e verifique se ele passou ou não de ano.\n",
        "Obs.: O aluno irá passar de ano se sua média for maior que 6.\n",
        "\n",
        "6) Faça um programa que mostre uma questão de múltipla escolha com 5 opções (letras a, b, c, d, e).\n",
        "Sabendo a resposta certa, o programa deve receber a opção do usuário e informar a letra que o usuário marcou e se a resposta está certa ou errada.\n",
        "\n",
        "7)\n",
        "Vamos fazer um programa para verificar quem é o assassino de um crime. Para descobrir o assassino,\n",
        "a polícia faz um pequeno questionário com 5 perguntas\n",
        "onde a resposta só pode ser sim ou não:\n",
        "\n",
        "a. Mora perto da vítima?\n",
        "\n",
        "b. Já trabalhou com a vítima?\n",
        "\n",
        "c. Telefonou para a vítima?\n",
        "\n",
        "d. Esteve no local do crime?\n",
        "\n",
        "e. Devia para a vítima?\n",
        "\n",
        "Cada resposta sim dá um ponto para o suspeito. A polícia considera que os suspeitos com 5 pontos são os assassinos, com 4 a 3 pontos\n",
        "são cúmplices e 2 pontos são apenas suspeitos, necessitando outras investigações. Valores iguais ou abaixo de 1 são liberados.'''\n",
        "\n",
        "8) Um produto vai sofrer aumento de acordo com a Tabela 1 abaixo. Faça um programa que peça para o usuário digitar o valor do produto de acordo\n",
        "com o preço antigo e escreva uma das mensagens da Tabela 2, de acordo com o preço reajustado:\n",
        "\n",
        "Tabela 1\n",
        "\n",
        "| Preço Antigo         | % de aumento |\n",
        "|----------------------|--------------|\n",
        "| Até 50 reais         | 5%           |\n",
        "| Entre 50 e 100 reais | 10%          |\n",
        "| De 100 a 150 reais   | 13%          |\n",
        "| Acima de 150 reais   | 15%          |\n",
        "\n",
        "Tabela 2\n",
        "\n",
        "| Preço Novo            | Mensagem   |\n",
        "|-----------------------|------------|\n",
        "| Até 80 reais          | Barato     |\n",
        "| Entre 80 e 115 reais  | Razoável   |\n",
        "| Entre 115 e 150 reais | Normal     |\n",
        "| Entre 150 e 170 reais | Caro       |\n",
        "| Acima de 170 reais    | Muito Caro |\n",
        "\n",
        "9) Desafio 1 - Faça um programa que leia 3 números e informe o maior deles.\n",
        "\n",
        "# Resolução dos exercícios\n",
        "Lembrando que não há uma única forma de resolver\n",
        "\n",
        "Coloquem as respostas em dontpad.com/turma999 e vou escolher algumas resoluções"
      ]
    },
    {
      "cell_type": "markdown",
      "id": "ecb9c538",
      "metadata": {
        "id": "ecb9c538"
      },
      "source": [
        "1) Faça um programa que peça a idade do usuário e imprima se ele é maior ou menor de 18 anos."
      ]
    },
    {
      "cell_type": "markdown",
      "id": "8854719d",
      "metadata": {
        "id": "8854719d"
      },
      "source": [
        "2) Faça um programa que peça um número e mostre se ele é positivo ou negativo. Alternativa: acrescentar zero. Desafio: acrescentar nulo"
      ]
    },
    {
      "cell_type": "code",
      "source": [
        "x = float(input(\"Digite um número: \"))\n",
        "\n",
        "if (x > 0):\n",
        "  print(\"É positivo\")\n",
        "elif (x == 0):\n",
        "  print(\"É zero!\")\n",
        "else:\n",
        "  print(\"É negativo\")"
      ],
      "metadata": {
        "colab": {
          "base_uri": "https://localhost:8080/"
        },
        "id": "8h-MQ5XpEAVx",
        "outputId": "31ed2d9b-6437-401d-b21a-96ac6ecf37d3"
      },
      "id": "8h-MQ5XpEAVx",
      "execution_count": 50,
      "outputs": [
        {
          "output_type": "stream",
          "name": "stdout",
          "text": [
            "Digite um número: -1\n",
            "É negativo\n"
          ]
        }
      ]
    },
    {
      "cell_type": "markdown",
      "id": "2d29d00a",
      "metadata": {
        "id": "2d29d00a"
      },
      "source": [
        "3) Faça um programa que peça dois números e mostre o maior deles."
      ]
    },
    {
      "cell_type": "code",
      "source": [
        "x = float(input(\"Digite o primeiro numero: \"))\n",
        "y = float(input(\"Digite o segundo numero: \"))\n",
        "\n",
        "# Verificando se x é maior que y\n",
        "if x > y:\n",
        "    print(f\"{x} é maior que {y}.\")\n",
        "elif x < y:\n",
        "    print(f\"{x} não é maior que {y}.\")\n",
        "else:\n",
        "    print(\"é igual\")"
      ],
      "metadata": {
        "colab": {
          "base_uri": "https://localhost:8080/"
        },
        "id": "Uvi9ZAs3HtsU",
        "outputId": "b4bc962c-1369-47c1-d4b1-8f44264e20c0"
      },
      "id": "Uvi9ZAs3HtsU",
      "execution_count": 56,
      "outputs": [
        {
          "output_type": "stream",
          "name": "stdout",
          "text": [
            "Digite o primeiro numero: 5\n",
            "Digite o segundo numero: 5\n",
            "é igual\n"
          ]
        }
      ]
    },
    {
      "cell_type": "markdown",
      "id": "d1180335",
      "metadata": {
        "id": "d1180335"
      },
      "source": [
        "4) Faça um programa que leia a validade das informações:\n",
        "\n",
        "    a. Idade: entre 0 e 150;\n",
        "\n",
        "    b. Salário: maior que 0;\n",
        "\n",
        "    c. Sexo: M, F ou Outro;\n",
        "\n",
        "O programa deve imprimir uma mensagem de erro para cada informação inválida."
      ]
    },
    {
      "cell_type": "markdown",
      "id": "a8a65e5a",
      "metadata": {
        "id": "a8a65e5a"
      },
      "source": [
        "5) Escreva um programa que peça a nota de 3 provas de um aluno e verifique se ele passou ou não de ano.\n",
        "Obs.: O aluno irá passar de ano se sua média for maior que 6."
      ]
    },
    {
      "cell_type": "markdown",
      "id": "e669f8cc",
      "metadata": {
        "id": "e669f8cc"
      },
      "source": [
        "6) Faça um programa que mostre uma questão de múltipla escolha com 5 opções (letras a, b, c, d, e).\n",
        "Sabendo a resposta certa, o programa deve receber a opção do usuário e informar a letra que o usuário marcou e se a resposta está certa ou errada."
      ]
    },
    {
      "cell_type": "code",
      "source": [
        "#print(\"Questão 1 \\n Aqui vai o enunciado da questao bla bla bla \\n Marque a alternativa certa \\n A. Bla bla bla\")\n",
        "\n",
        "print(\"Questão 1\")\n",
        "print(\"Aqui vai o enunciado da questão bla blab alb al l albal...\")\n",
        "print(\"Selecione a alternativa correta:\")\n",
        "print(\"A. Bla blab lbalba\")\n",
        "print(\"B. Bla bla bla\")\n",
        "print(\"C. Bla bla bla\")\n",
        "print(\"D. Bla bla bla\")\n",
        "print(\"E. Bla bla bla\")\n",
        "\n",
        "alternativa_correta = 'C'\n",
        "\n",
        "alternativa_marcada = input('Selecione uma alternativa: ')\n",
        "\n",
        "if alternativa_marcada == alternativa_correta:\n",
        "  print(\"Acertou :)\")\n",
        "else:\n",
        "  print(\"Errou :(\")\n",
        "\n",
        "\n"
      ],
      "metadata": {
        "colab": {
          "base_uri": "https://localhost:8080/"
        },
        "id": "hbFIfr-JJn-6",
        "outputId": "38cee656-b939-4102-9054-3906cb48161e"
      },
      "id": "hbFIfr-JJn-6",
      "execution_count": 64,
      "outputs": [
        {
          "output_type": "stream",
          "name": "stdout",
          "text": [
            "Questão 1\n",
            "Aqui vai o enunciado da questão bla blab alb al l albal...\n",
            "Selecione a alternativa correta:\n",
            "A. Bla blab lbalba\n",
            "B. Bla bla bla\n",
            "C. Bla bla bla\n",
            "D. Bla bla bla\n",
            "E. Bla bla bla\n",
            "Selecione uma alternativa: C\n",
            "Acertou :)\n"
          ]
        }
      ]
    },
    {
      "cell_type": "markdown",
      "id": "43e66438",
      "metadata": {
        "id": "43e66438"
      },
      "source": [
        "7) Vamos fazer um programa para verificar quem é o assassino de um crime. Para descobrir o assassino, a polícia faz um pequeno questionário com 5 perguntas onde a resposta só pode ser sim ou não:  \n",
        "\n",
        "\n",
        "    a. Mora perto da vítima?\n",
        "\n",
        "    b. Já trabalhou com a vítima?\n",
        "\n",
        "    c. Telefonou para a vítima?\n",
        "\n",
        "    d. Esteve no local do crime?\n",
        "\n",
        "    e. Devia para a vítima?\n",
        "\n",
        "Cada resposta sim dá um ponto para o suspeito. A polícia considera que os suspeitos com 5 pontos são os assassinos, com 4 a 3 pontos\n",
        "são cúmplices e 2 pontos são apenas suspeitos, necessitando outras investigações. Valores iguais ou abaixo de 1 são liberados."
      ]
    },
    {
      "cell_type": "markdown",
      "id": "b73da6e2",
      "metadata": {
        "id": "b73da6e2"
      },
      "source": [
        "8) Um produto vai sofrer aumento de acordo com a Tabela 1 abaixo. Faça um programa que peça para o usuário digitar o valor do produto de acordo\n",
        "com o preço antigo e escreva uma das mensagens da Tabela 2, de acordo com o preço reajustado:\n",
        "\n",
        "Tabela 1\n",
        "\n",
        "| Preço Antigo         | % de aumento |\n",
        "|----------------------|--------------|\n",
        "| Até 50 reais         | 5%           |\n",
        "| Entre 50 e 100 reais | 10%          |\n",
        "| De 100 a 150 reais   | 13%          |\n",
        "| Acima de 150 reais   | 15%          |\n",
        "\n",
        "Tabela 2\n",
        "\n",
        "| Preço Novo            | Mensagem   |\n",
        "|-----------------------|------------|\n",
        "| Até 80 reais          | Barato     |\n",
        "| Entre 80 e 115 reais  | Razoável   |\n",
        "| Entre 115 e 150 reais | Normal     |\n",
        "| Entre 150 e 170 reais | Caro       |\n",
        "| Acima de 170 reais    | Muito Caro |"
      ]
    },
    {
      "cell_type": "code",
      "source": [
        "preco_produto = float(input(\"Digite o preço do produto: \"))\n",
        "\n",
        "if preco_produto <= 50:\n",
        "  preco_produto *= 1.05\n",
        "elif preco_produto <= 100:\n",
        "  preco_produto *= 1.10\n",
        "elif preco_produto <= 150:\n",
        "  preco_produto *= 1.13\n",
        "else:\n",
        "  preco_produto *= 1.15\n",
        "\n",
        "if preco_produto <= 80:\n",
        "  print(\"Barato\")\n",
        "elif preco_produto <= 115:\n",
        "  print(\"Razoável\")\n",
        "elif preco_produto <= 150:\n",
        "  print(\"Normal\")\n",
        "elif preco_produto <= 170:\n",
        "  print(\"Caro\")\n",
        "else:\n",
        "  print(\"Muito caro\")"
      ],
      "metadata": {
        "id": "u1giyixjL0Zn"
      },
      "id": "u1giyixjL0Zn",
      "execution_count": 65,
      "outputs": []
    },
    {
      "cell_type": "markdown",
      "id": "f8b8d13e",
      "metadata": {
        "id": "f8b8d13e"
      },
      "source": [
        "9) Desafio 1 - Faça um programa que leia 3 números e informe o maior deles."
      ]
    },
    {
      "cell_type": "code",
      "execution_count": null,
      "id": "a3f5bce1",
      "metadata": {
        "id": "a3f5bce1"
      },
      "outputs": [],
      "source": []
    },
    {
      "cell_type": "markdown",
      "source": [
        "10) Desafio 2: E se no desafio 1 foram 4 números como fazer?"
      ],
      "metadata": {
        "id": "LJpAxvH1QEEA"
      },
      "id": "LJpAxvH1QEEA"
    },
    {
      "cell_type": "code",
      "source": [],
      "metadata": {
        "id": "xkJmUM57QIKh"
      },
      "id": "xkJmUM57QIKh",
      "execution_count": null,
      "outputs": []
    }
  ],
  "metadata": {
    "kernelspec": {
      "display_name": "Python 3 (ipykernel)",
      "language": "python",
      "name": "python3"
    },
    "language_info": {
      "codemirror_mode": {
        "name": "ipython",
        "version": 3
      },
      "file_extension": ".py",
      "mimetype": "text/x-python",
      "name": "python",
      "nbconvert_exporter": "python",
      "pygments_lexer": "ipython3",
      "version": "3.11.0rc1"
    },
    "colab": {
      "provenance": []
    }
  },
  "nbformat": 4,
  "nbformat_minor": 5
}