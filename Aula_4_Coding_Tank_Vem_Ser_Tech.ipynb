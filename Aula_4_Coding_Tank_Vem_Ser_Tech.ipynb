{
  "cells": [
    {
      "cell_type": "markdown",
      "id": "341a085c",
      "metadata": {
        "id": "341a085c"
      },
      "source": [
        "<div style=\"background-color: lightgreen; padding: 18px;\">\n",
        "    <h1> Coding Tank | Vem Ser Tech\n",
        "</div>"
      ]
    },
    {
      "cell_type": "markdown",
      "id": "f0230d44",
      "metadata": {
        "id": "f0230d44"
      },
      "source": [
        "<div style=\"background-color: lightblue; padding: 10px;\">\n",
        "    <h2> Tópicos da aula - AULA 4\n",
        "</div>\n",
        "\n",
        "- Loop for\n",
        "- Listas\n",
        "- Índices\n",
        "- Iterações de listas\n",
        "- Métodos de listas"
      ]
    },
    {
      "cell_type": "markdown",
      "id": "ddaaaec8",
      "metadata": {
        "id": "ddaaaec8"
      },
      "source": [
        "E se quisermos fazer o programa que a pessoa digita 10 números e dizemos o maior, conseguimos?\n",
        "\n",
        "E se quisermos o 2° maior? E se quisermos o 5º?\n",
        "\n",
        "Podemos resolver com **listas**\n",
        "\n",
        "- Listas\n",
        "\n",
        "Listas são coleções de objetos em Python e é expressada em `[]`"
      ]
    },
    {
      "cell_type": "code",
      "source": [
        "lista_1 = []   #lista vazia\n",
        "lista_2 = [1, 2, 3, 4]  #lista contendo 4 elementos (inteiros)\n",
        "lista_3 = list()       #criando uma lista com o list() -> nesse, caso to criando uma lista\n",
        "lista_4 = [1, 2.5, 3, 4]  #misturando elementos int e float\n",
        "lista_5 = [1, 2.0, 'Lucas', True] # misturando diversos tipos dentro de uma lista\n",
        "lista_6 = [1, [2,3]]  #eu consigo colocar listas dentro de listas"
      ],
      "metadata": {
        "id": "xopVsIPoassc"
      },
      "id": "xopVsIPoassc",
      "execution_count": 4,
      "outputs": []
    },
    {
      "cell_type": "code",
      "source": [
        "# Vamos falar sobre como podemos identificar um elemento dentro de uma lista\n",
        "\n",
        "lista_exemplo =   [1, 3, 5, 7, 9, 11, 13, 15, 17, 21]\n",
        "#indices           0  1  2  3  4  5   6   7   8   9\n",
        "#indice => posição dos elementos"
      ],
      "metadata": {
        "id": "sk69WE8ocnpG"
      },
      "id": "sk69WE8ocnpG",
      "execution_count": 14,
      "outputs": []
    },
    {
      "cell_type": "code",
      "source": [
        "lista_exemplo  # a posição dos elementos é importante"
      ],
      "metadata": {
        "colab": {
          "base_uri": "https://localhost:8080/"
        },
        "id": "I6kCFnnneCCy",
        "outputId": "0d6697bd-7485-4e0a-cc8b-a4afa52bf253"
      },
      "id": "I6kCFnnneCCy",
      "execution_count": 15,
      "outputs": [
        {
          "output_type": "execute_result",
          "data": {
            "text/plain": [
              "[1, 3, 5, 7, 9, 11, 13, 15, 17, 21]"
            ]
          },
          "metadata": {},
          "execution_count": 15
        }
      ]
    },
    {
      "cell_type": "code",
      "source": [
        "# Funções e métodos de listas\n",
        "#quantidade de elementos da lista\n",
        "len(lista_exemplo)                # len significa lenght, que é tamanho"
      ],
      "metadata": {
        "colab": {
          "base_uri": "https://localhost:8080/"
        },
        "id": "uZ_Hww7SeThp",
        "outputId": "55064e53-6a70-4b87-88c3-5c7b7624ee9e"
      },
      "id": "uZ_Hww7SeThp",
      "execution_count": 16,
      "outputs": [
        {
          "output_type": "execute_result",
          "data": {
            "text/plain": [
              "10"
            ]
          },
          "metadata": {},
          "execution_count": 16
        }
      ]
    },
    {
      "cell_type": "code",
      "source": [
        "#Acessar os elementos da lista a partir de uma posição\n",
        "\n",
        "#quero acessar o primeiro elemento da lista\n",
        "lista_exemplo[0]   # o primeiro elemento é o elemento de indice 0."
      ],
      "metadata": {
        "colab": {
          "base_uri": "https://localhost:8080/"
        },
        "id": "Fc-nEdALes1B",
        "outputId": "6e37226b-5e25-445d-bfc0-8784ebe68c6a"
      },
      "id": "Fc-nEdALes1B",
      "execution_count": 13,
      "outputs": [
        {
          "output_type": "execute_result",
          "data": {
            "text/plain": [
              "1"
            ]
          },
          "metadata": {},
          "execution_count": 13
        }
      ]
    },
    {
      "cell_type": "code",
      "source": [
        "#Acessando o 8o elemento da lista\n",
        "lista_exemplo[7]"
      ],
      "metadata": {
        "colab": {
          "base_uri": "https://localhost:8080/"
        },
        "id": "DZXdC8mrfLFD",
        "outputId": "c9da509e-32ca-48fa-e766-bfb9984122a5"
      },
      "id": "DZXdC8mrfLFD",
      "execution_count": 17,
      "outputs": [
        {
          "output_type": "execute_result",
          "data": {
            "text/plain": [
              "15"
            ]
          },
          "metadata": {},
          "execution_count": 17
        }
      ]
    },
    {
      "cell_type": "code",
      "source": [
        "# Acessando o ultimo elemento de uma lista de 10 elementos\n",
        "lista_exemplo[9]"
      ],
      "metadata": {
        "colab": {
          "base_uri": "https://localhost:8080/"
        },
        "id": "L7HfZ1iufa4l",
        "outputId": "ec7a4994-174d-4dcc-e1cf-dc22d372d7d9"
      },
      "id": "L7HfZ1iufa4l",
      "execution_count": 18,
      "outputs": [
        {
          "output_type": "execute_result",
          "data": {
            "text/plain": [
              "21"
            ]
          },
          "metadata": {},
          "execution_count": 18
        }
      ]
    },
    {
      "cell_type": "code",
      "source": [
        "lista_exemplo2 = [1, [7, 8]]\n",
        "lista_exemplo2[1]"
      ],
      "metadata": {
        "colab": {
          "base_uri": "https://localhost:8080/"
        },
        "id": "bNoh1vysgcwz",
        "outputId": "e41ec83f-6223-409b-c6a4-732181751cc2"
      },
      "id": "bNoh1vysgcwz",
      "execution_count": 21,
      "outputs": [
        {
          "output_type": "execute_result",
          "data": {
            "text/plain": [
              "[7, 8]"
            ]
          },
          "metadata": {},
          "execution_count": 21
        }
      ]
    },
    {
      "cell_type": "code",
      "source": [
        "# Acessando todos os elementos da lista\n",
        "\n",
        "print(lista_exemplo[0]) #Acessando o primeiro elemento\n",
        "\n",
        "print(lista_exemplo[1]) #Acessando o segundo\n",
        "\n",
        "print(lista_exemplo[2]) #Acessando o terceiro\n",
        "\n",
        "print(lista_exemplo[3]) #quarto\n",
        "\n",
        "print(lista_exemplo[4]) #quinto\n",
        "\n",
        "print(lista_exemplo[5]) #sexto\n",
        "\n",
        "print(lista_exemplo[9]) #décimo\n",
        "\n",
        "print(lista_exemplo[10]) #Dá erro porque não tem um elemento de índice 10 (lembrando que o python começa do zero)\n"
      ],
      "metadata": {
        "colab": {
          "base_uri": "https://localhost:8080/",
          "height": 337
        },
        "id": "G7RELVG2gy_l",
        "outputId": "64677afa-0246-43cf-ac5b-daff99bcc7f6"
      },
      "id": "G7RELVG2gy_l",
      "execution_count": 25,
      "outputs": [
        {
          "output_type": "stream",
          "name": "stdout",
          "text": [
            "1\n",
            "3\n",
            "5\n",
            "7\n",
            "9\n",
            "11\n",
            "21\n"
          ]
        },
        {
          "output_type": "error",
          "ename": "IndexError",
          "evalue": "ignored",
          "traceback": [
            "\u001b[0;31m---------------------------------------------------------------------------\u001b[0m",
            "\u001b[0;31mIndexError\u001b[0m                                Traceback (most recent call last)",
            "\u001b[0;32m<ipython-input-25-5521d72b024b>\u001b[0m in \u001b[0;36m<cell line: 17>\u001b[0;34m()\u001b[0m\n\u001b[1;32m     15\u001b[0m \u001b[0mprint\u001b[0m\u001b[0;34m(\u001b[0m\u001b[0mlista_exemplo\u001b[0m\u001b[0;34m[\u001b[0m\u001b[0;36m9\u001b[0m\u001b[0;34m]\u001b[0m\u001b[0;34m)\u001b[0m \u001b[0;31m#décimo\u001b[0m\u001b[0;34m\u001b[0m\u001b[0;34m\u001b[0m\u001b[0m\n\u001b[1;32m     16\u001b[0m \u001b[0;34m\u001b[0m\u001b[0m\n\u001b[0;32m---> 17\u001b[0;31m \u001b[0mprint\u001b[0m\u001b[0;34m(\u001b[0m\u001b[0mlista_exemplo\u001b[0m\u001b[0;34m[\u001b[0m\u001b[0;36m10\u001b[0m\u001b[0;34m]\u001b[0m\u001b[0;34m)\u001b[0m\u001b[0;34m\u001b[0m\u001b[0;34m\u001b[0m\u001b[0m\n\u001b[0m",
            "\u001b[0;31mIndexError\u001b[0m: list index out of range"
          ]
        }
      ]
    },
    {
      "cell_type": "code",
      "source": [
        "print(lista_5)"
      ],
      "metadata": {
        "colab": {
          "base_uri": "https://localhost:8080/"
        },
        "id": "0knF9b62htTV",
        "outputId": "68f8fd07-47e3-4345-9dff-a58b84041568"
      },
      "id": "0knF9b62htTV",
      "execution_count": 26,
      "outputs": [
        {
          "output_type": "stream",
          "name": "stdout",
          "text": [
            "[1, 2.0, 'Lucas', True]\n"
          ]
        }
      ]
    },
    {
      "cell_type": "code",
      "source": [
        "type(lista_5)"
      ],
      "metadata": {
        "colab": {
          "base_uri": "https://localhost:8080/"
        },
        "id": "aX_9N8QLh1gj",
        "outputId": "8f845dfa-9151-4a94-caa5-2bac2308c39c"
      },
      "id": "aX_9N8QLh1gj",
      "execution_count": 27,
      "outputs": [
        {
          "output_type": "execute_result",
          "data": {
            "text/plain": [
              "list"
            ]
          },
          "metadata": {},
          "execution_count": 27
        }
      ]
    },
    {
      "cell_type": "code",
      "source": [
        "type(lista_5[0])"
      ],
      "metadata": {
        "colab": {
          "base_uri": "https://localhost:8080/"
        },
        "id": "W_w-yALqh-w2",
        "outputId": "1e5dad43-3e0e-4bc6-a53b-295cd2d4b90e"
      },
      "id": "W_w-yALqh-w2",
      "execution_count": 29,
      "outputs": [
        {
          "output_type": "execute_result",
          "data": {
            "text/plain": [
              "int"
            ]
          },
          "metadata": {},
          "execution_count": 29
        }
      ]
    },
    {
      "cell_type": "code",
      "source": [
        "type(lista_5[2])"
      ],
      "metadata": {
        "colab": {
          "base_uri": "https://localhost:8080/"
        },
        "id": "xkJNg-KEiGYL",
        "outputId": "c8a941a9-8e76-4746-f076-f462dcf29b59"
      },
      "id": "xkJNg-KEiGYL",
      "execution_count": 30,
      "outputs": [
        {
          "output_type": "execute_result",
          "data": {
            "text/plain": [
              "str"
            ]
          },
          "metadata": {},
          "execution_count": 30
        }
      ]
    },
    {
      "cell_type": "code",
      "source": [
        "#Acessando o último elemento de uma lista\n",
        "tamanho_lista = len(lista_5)\n",
        "lista_5[tamanho_lista - 1]"
      ],
      "metadata": {
        "colab": {
          "base_uri": "https://localhost:8080/"
        },
        "id": "Gx8sKKHPit4F",
        "outputId": "3196fe9a-da19-4ee8-9743-4273fff4d093"
      },
      "id": "Gx8sKKHPit4F",
      "execution_count": 32,
      "outputs": [
        {
          "output_type": "execute_result",
          "data": {
            "text/plain": [
              "True"
            ]
          },
          "metadata": {},
          "execution_count": 32
        }
      ]
    },
    {
      "cell_type": "code",
      "source": [
        "# Outra forma de acessar o último elementa da lista\n",
        "lista_5[-1] # O índice -1 equivale ao último elemento da lista"
      ],
      "metadata": {
        "colab": {
          "base_uri": "https://localhost:8080/"
        },
        "id": "kINgCZ0QjEvm",
        "outputId": "53d3240c-483f-4308-9e55-6dfe4f1b5330"
      },
      "id": "kINgCZ0QjEvm",
      "execution_count": 33,
      "outputs": [
        {
          "output_type": "execute_result",
          "data": {
            "text/plain": [
              "True"
            ]
          },
          "metadata": {},
          "execution_count": 33
        }
      ]
    },
    {
      "cell_type": "code",
      "source": [
        "lista_exemplo"
      ],
      "metadata": {
        "colab": {
          "base_uri": "https://localhost:8080/"
        },
        "id": "yscpxAANjfkX",
        "outputId": "4ccd25a3-483c-4eeb-ed05-556d5be93405"
      },
      "id": "yscpxAANjfkX",
      "execution_count": 38,
      "outputs": [
        {
          "output_type": "execute_result",
          "data": {
            "text/plain": [
              "[1, 3, 5, 7, 9, 11, 13, 15, 17, 21]"
            ]
          },
          "metadata": {},
          "execution_count": 38
        }
      ]
    },
    {
      "cell_type": "code",
      "source": [
        "# Quebrando e acessando listas\n",
        "# Vamos utilizar o operador :   lista[inicio:fim] --> todos valores que começam no indice inicio e terminam no indice fim-1\n",
        "#OBS.: O número espeficido como fim não está incluso nos indices que serão retornados\n",
        "\n",
        "print(lista_exemplo[:]) # Se nao espeficiar inicio e fim, retornar todo mundo\n",
        "\n",
        "# Quero acessar os 3 primeiros elementos da minha lista\n",
        "# Quem sao os 3 primeiros elementos? são os de indice 0,1,2\n",
        "print(lista_exemplo[0:3]) # Nesse caso vamos acessar os indices 0, 1 e 2. O indice 3 não está incluso!!!!\n",
        "print(lista_exemplo[:3])  # Se não especifico de onde começo, começo do indice 0\n",
        "\n",
        "print(lista_exemplo[6:10]) # Vou pegar os elementos que tem indice 6, 7, 8 e 9. Mais vez 10 não está incluso!!!\n",
        "print(lista_exemplo[6:])   # Se não especifico o final, vou até o final\n",
        "\n",
        "print(lista_exemplo[6:-1]) # Vimos que o -1 equivale ao último indice. então não vamos incluir o elemento de indice -1!!!\n",
        "\n",
        "#Observação importante: quando usamos : sempre obtemos parte da lista, podendo ser uma lista vazia ou uma lista de um elemento\n",
        "print(lista_exemplo[0])\n",
        "print(lista_exemplo[0:1])\n",
        "\n",
        "print(lista_exemplo[1:8])\n",
        "print(lista_exemplo[1:8:2])  # recebo do índice 1 até indice 7, de 2 em 2 ---> lista[inicio:fim:passo]\n",
        "                             # entao, começamos no indice 1 e vamos somando o passo: 1, 3, 5, 7 (lembrando que esses valores são indices)"
      ],
      "metadata": {
        "colab": {
          "base_uri": "https://localhost:8080/"
        },
        "id": "t5OfWKEAkVl7",
        "outputId": "912e699f-a9b2-4d22-accb-0ada351c16b9"
      },
      "id": "t5OfWKEAkVl7",
      "execution_count": 52,
      "outputs": [
        {
          "output_type": "stream",
          "name": "stdout",
          "text": [
            "[1, 3, 5, 7, 9, 11, 13, 15, 17, 21]\n",
            "[1, 3, 5]\n",
            "[1, 3, 5]\n",
            "[13, 15, 17, 21]\n",
            "[13, 15, 17, 21]\n",
            "[13, 15, 17]\n",
            "1\n",
            "[1]\n",
            "[3, 5, 7, 9, 11, 13, 15]\n",
            "[3, 7, 11, 15]\n"
          ]
        }
      ]
    },
    {
      "cell_type": "code",
      "source": [
        "# Substituindo valores em listas\n",
        "print(lista_exemplo)\n",
        "\n",
        "lista_exemplo[2] = 11 #Substituindo o valor do elemento de índice 2 pelo 11.\n",
        "\n",
        "print(lista_exemplo)"
      ],
      "metadata": {
        "colab": {
          "base_uri": "https://localhost:8080/"
        },
        "id": "mcMM3SGym_Ho",
        "outputId": "55f4adc5-bcc1-488c-e3be-ea6719d98250"
      },
      "id": "mcMM3SGym_Ho",
      "execution_count": 54,
      "outputs": [
        {
          "output_type": "stream",
          "name": "stdout",
          "text": [
            "[1, 3, 5, 7, 9, 11, 13, 15, 17, 21]\n",
            "[1, 3, 11, 7, 9, 11, 13, 15, 17, 21]\n"
          ]
        }
      ]
    },
    {
      "cell_type": "code",
      "source": [
        "# Acrescento elementos no final da lista --> usando a \"função\" append\n",
        "\n",
        "# Adicionando o elemento 99 ao final\n",
        "print(lista_exemplo)\n",
        "print(len(lista_exemplo))\n",
        "lista_exemplo.append(99)\n",
        "print(lista_exemplo)\n",
        "print(len(lista_exemplo))"
      ],
      "metadata": {
        "colab": {
          "base_uri": "https://localhost:8080/"
        },
        "id": "R5Y6rpfSqKBJ",
        "outputId": "05b5bfd9-35f9-468c-accb-207682227ca5"
      },
      "id": "R5Y6rpfSqKBJ",
      "execution_count": 57,
      "outputs": [
        {
          "output_type": "stream",
          "name": "stdout",
          "text": [
            "[1, 3, 11, 7, 9, 11, 13, 15, 17, 21, 99]\n",
            "11\n",
            "[1, 3, 11, 7, 9, 11, 13, 15, 17, 21, 99, 99]\n",
            "12\n"
          ]
        }
      ]
    },
    {
      "cell_type": "code",
      "source": [
        "# Como concatenar (juntar) duas listas\n",
        "print(lista_4)\n",
        "print(lista_5)"
      ],
      "metadata": {
        "colab": {
          "base_uri": "https://localhost:8080/"
        },
        "id": "gLZ9b45-q9Ci",
        "outputId": "cc9f7235-bf67-4583-fb77-a55d443c7799"
      },
      "id": "gLZ9b45-q9Ci",
      "execution_count": 59,
      "outputs": [
        {
          "output_type": "stream",
          "name": "stdout",
          "text": [
            "[1, 2.5, 3, 4]\n",
            "[1, 2.0, 'Lucas', True]\n"
          ]
        }
      ]
    },
    {
      "cell_type": "code",
      "source": [
        "nova_lista = lista_4 + lista_5"
      ],
      "metadata": {
        "id": "nyIAv0QxrKAZ"
      },
      "id": "nyIAv0QxrKAZ",
      "execution_count": 61,
      "outputs": []
    },
    {
      "cell_type": "markdown",
      "id": "f4bac6d5",
      "metadata": {
        "ExecuteTime": {
          "end_time": "2023-06-29T22:52:13.757377Z",
          "start_time": "2023-06-29T22:52:13.737024Z"
        },
        "id": "f4bac6d5"
      },
      "source": [
        "Existem várias outras funções/métodos de listas que vocês irão aprender no próximo módulo, como:\n",
        "\n",
        "- append\n",
        "- insert\n",
        "- remove\n",
        "- pop\n",
        "- sort\n",
        "- sorted\n",
        "- reverse\n",
        "- index\n",
        "- max, min, len\n",
        "    "
      ]
    },
    {
      "cell_type": "code",
      "source": [
        "print(lista_exemplo)"
      ],
      "metadata": {
        "colab": {
          "base_uri": "https://localhost:8080/"
        },
        "id": "TbQ0bXkQruPu",
        "outputId": "0a94c54a-a3cc-42e3-f580-3c14a91659e9"
      },
      "id": "TbQ0bXkQruPu",
      "execution_count": 64,
      "outputs": [
        {
          "output_type": "stream",
          "name": "stdout",
          "text": [
            "[1, 3, 11, 7, 9, 11, 13, 15, 17, 21, 99, 99]\n"
          ]
        }
      ]
    },
    {
      "cell_type": "code",
      "source": [
        "sorted(lista_exemplo)"
      ],
      "metadata": {
        "colab": {
          "base_uri": "https://localhost:8080/"
        },
        "id": "snjTgxxRr2l8",
        "outputId": "0e540b02-bcfe-443b-cc58-9dbb597ab049"
      },
      "id": "snjTgxxRr2l8",
      "execution_count": 65,
      "outputs": [
        {
          "output_type": "execute_result",
          "data": {
            "text/plain": [
              "[1, 3, 7, 9, 11, 11, 13, 15, 17, 21, 99, 99]"
            ]
          },
          "metadata": {},
          "execution_count": 65
        }
      ]
    },
    {
      "cell_type": "code",
      "source": [
        "max(lista_exemplo)"
      ],
      "metadata": {
        "colab": {
          "base_uri": "https://localhost:8080/"
        },
        "id": "y0lOCTHzr6_3",
        "outputId": "e08bc814-59c9-4291-d56d-6b0f5691cb86"
      },
      "id": "y0lOCTHzr6_3",
      "execution_count": 66,
      "outputs": [
        {
          "output_type": "execute_result",
          "data": {
            "text/plain": [
              "99"
            ]
          },
          "metadata": {},
          "execution_count": 66
        }
      ]
    },
    {
      "cell_type": "code",
      "source": [
        "min(lista_exemplo)"
      ],
      "metadata": {
        "colab": {
          "base_uri": "https://localhost:8080/"
        },
        "id": "wA3IOjDGr9Yi",
        "outputId": "7cd9d278-5fd1-451a-b84a-cd3e044bb30d"
      },
      "id": "wA3IOjDGr9Yi",
      "execution_count": 67,
      "outputs": [
        {
          "output_type": "execute_result",
          "data": {
            "text/plain": [
              "1"
            ]
          },
          "metadata": {},
          "execution_count": 67
        }
      ]
    },
    {
      "cell_type": "code",
      "source": [
        "# como adicionar vários elementos a uma lista enquanto o usuário fornece valores\n",
        "# se o usuário digitar 0, o programa finaliza\n",
        "\n",
        "lista = []\n",
        "numero = int(input('Digite um número: '))\n",
        "\n",
        "while numero != 0:\n",
        "  lista.append(numero)\n",
        "  numero = int(input('Digite um número: '))\n",
        "\n",
        "print(lista)"
      ],
      "metadata": {
        "colab": {
          "base_uri": "https://localhost:8080/"
        },
        "id": "YGd86bjssEOk",
        "outputId": "45e5b7e7-a6e2-4985-b2bf-85a2884e479c"
      },
      "id": "YGd86bjssEOk",
      "execution_count": 70,
      "outputs": [
        {
          "output_type": "stream",
          "name": "stdout",
          "text": [
            "Digite um número: 1\n",
            "Digite um número: 2\n",
            "Digite um número: 3\n",
            "Digite um número: 0\n",
            "[1, 2, 3]\n"
          ]
        }
      ]
    },
    {
      "cell_type": "markdown",
      "id": "d9df7da1",
      "metadata": {
        "id": "d9df7da1"
      },
      "source": [
        "**Percorrer a lista**"
      ]
    },
    {
      "cell_type": "code",
      "source": [
        "numeros = [1,3,5,7,9]"
      ],
      "metadata": {
        "id": "_Tlh4vF-wYj3"
      },
      "id": "_Tlh4vF-wYj3",
      "execution_count": 71,
      "outputs": []
    },
    {
      "cell_type": "markdown",
      "id": "9d63c551",
      "metadata": {
        "id": "9d63c551"
      },
      "source": [
        "**Maneiras de percorrer uma lista**\n",
        "\n",
        "numeros = [1, 3, 5, 7, 9]\n",
        "\n",
        "- Usando while\n",
        "\n",
        "Pros: Eu sei não só o elemento mas sei o indice também   \n",
        "Contra: Eu preciso controlar o índice\n",
        "\n",
        "```python\n",
        "contador = 0\n",
        "while (contador < len(numeros)):\n",
        "    print(numeros[contador])\n",
        "    contador = contador + 1  Se eu esquecer essa linha vira um loop infinito\n",
        "```\n",
        "\n",
        "\n",
        "- Jeito intermediario: for in range\n",
        "\n",
        "Pros: Sei o indice, não preciso controlar o loop  \n",
        "Contra: Precisa saber usar a função range  \n",
        "range(5) ->  [0, 1, 2, 3, 4]\n",
        "\n",
        "```python\n",
        "numeros = [1, 3, 5, 7, 9]\n",
        "for indice in range(len(numeros)):\n",
        "    print(numeros[indice])\n",
        "```\n",
        "\n",
        "\n",
        "- Usando só for (sem índice)\n",
        "\n",
        "Pros: não preciso me preocupar com o índice e nem com loop  \n",
        "Contra: não sei índice\n",
        "\n",
        "```python\n",
        "numeros = [1, 3, 5, 7, 9]\n",
        "for numero in numeros:        numero é uma especie de variavel temporaria, usamos item, elemento, etc\n",
        "    print(numero)\n",
        "```"
      ]
    },
    {
      "cell_type": "code",
      "source": [
        "#Usando while para percorrer a lista\n",
        "\n",
        "numeros = [1,3,5,7,9,11,13] #--> tamanhno 5\n",
        "\n",
        "contador = 0\n",
        "\n",
        "while contador < len(numeros):\n",
        "\n",
        "  ### Faço algo\n",
        "\n",
        "  #print(contador)\n",
        "\n",
        "  print(f\"Elemento de indice {contador}: {numeros[contador]}\")\n",
        "\n",
        "  contador += 1"
      ],
      "metadata": {
        "colab": {
          "base_uri": "https://localhost:8080/"
        },
        "id": "aaFsHxY-wi93",
        "outputId": "b48ea441-7db4-4276-d08d-bd52a5099731"
      },
      "id": "aaFsHxY-wi93",
      "execution_count": 77,
      "outputs": [
        {
          "output_type": "stream",
          "name": "stdout",
          "text": [
            "Elemento de indice 0: 1\n",
            "Elemento de indice 1: 3\n",
            "Elemento de indice 2: 5\n",
            "Elemento de indice 3: 7\n",
            "Elemento de indice 4: 9\n",
            "Elemento de indice 5: 11\n",
            "Elemento de indice 6: 13\n"
          ]
        }
      ]
    },
    {
      "cell_type": "code",
      "source": [
        "# Usando for (Primeira maneira)\n",
        "\n",
        "for i in range(0, len(numeros)):\n",
        "  print(f\"Elemento de indice {i}: {numeros[i]}\")"
      ],
      "metadata": {
        "colab": {
          "base_uri": "https://localhost:8080/"
        },
        "id": "ViVwla_ax0G0",
        "outputId": "a26ea476-70cb-4077-871a-6136ac97229e"
      },
      "id": "ViVwla_ax0G0",
      "execution_count": 79,
      "outputs": [
        {
          "output_type": "stream",
          "name": "stdout",
          "text": [
            "Elemento de indice 0: 1\n",
            "Elemento de indice 1: 3\n",
            "Elemento de indice 2: 5\n",
            "Elemento de indice 3: 7\n",
            "Elemento de indice 4: 9\n",
            "Elemento de indice 5: 11\n",
            "Elemento de indice 6: 13\n"
          ]
        }
      ]
    },
    {
      "cell_type": "code",
      "source": [
        "# Usando for (Segunda maneira)\n",
        "\n",
        "for numero in numeros:\n",
        "  print(numero)"
      ],
      "metadata": {
        "colab": {
          "base_uri": "https://localhost:8080/"
        },
        "id": "jCsN9Im-ygeB",
        "outputId": "aa9835e4-12e1-4667-b43f-7b29b3972362"
      },
      "id": "jCsN9Im-ygeB",
      "execution_count": 80,
      "outputs": [
        {
          "output_type": "stream",
          "name": "stdout",
          "text": [
            "1\n",
            "3\n",
            "5\n",
            "7\n",
            "9\n",
            "11\n",
            "13\n"
          ]
        }
      ]
    },
    {
      "cell_type": "code",
      "source": [
        "for i in numeros:\n",
        "  print(i)"
      ],
      "metadata": {
        "colab": {
          "base_uri": "https://localhost:8080/"
        },
        "id": "opjPenSBy3ou",
        "outputId": "fb5bdb62-4ee3-44bc-93d0-d73e80634f8b"
      },
      "id": "opjPenSBy3ou",
      "execution_count": 86,
      "outputs": [
        {
          "output_type": "stream",
          "name": "stdout",
          "text": [
            "1\n",
            "3\n",
            "5\n",
            "7\n",
            "9\n"
          ]
        }
      ]
    },
    {
      "cell_type": "code",
      "source": [
        "numeros = [1,3,5,7,9]\n",
        "\n",
        "print(numeros[0]) # ----> numeros[i]\n",
        "print(numeros[1])\n",
        "print(numeros[2])\n",
        "print(numeros[3])\n",
        "print(numeros[4])\n",
        "\n",
        "print()\n",
        "\n",
        "# Estamos percorrendo a lista gerando os indices e acessando os elementos da lista a partir desse indice\n",
        "\n",
        "for i in range(0, len(numeros)):\n",
        "  print(numeros[i])\n",
        "\n",
        "# Vamos utilizar o for sem a necessidade de gerar os indices. Vamos acessar os elementos diretamente\n",
        "\n",
        "print()\n",
        "\n",
        "for n in numeros:   # Para cada iteração, um elemento de numeros é atribuido a n e o bloco de repetição é executado\n",
        "  print(n)"
      ],
      "metadata": {
        "colab": {
          "base_uri": "https://localhost:8080/"
        },
        "id": "LHWOZhpWzh16",
        "outputId": "21c897b5-f258-400d-b514-f3c8db8afec1"
      },
      "id": "LHWOZhpWzh16",
      "execution_count": 87,
      "outputs": [
        {
          "output_type": "stream",
          "name": "stdout",
          "text": [
            "1\n",
            "3\n",
            "5\n",
            "7\n",
            "9\n",
            "\n",
            "1\n",
            "3\n",
            "5\n",
            "7\n",
            "9\n",
            "\n",
            "1\n",
            "3\n",
            "5\n",
            "7\n",
            "9\n"
          ]
        }
      ]
    },
    {
      "cell_type": "markdown",
      "id": "efb6b72d",
      "metadata": {
        "id": "efb6b72d"
      },
      "source": [
        "**Exercícios**"
      ]
    },
    {
      "cell_type": "markdown",
      "id": "80de8ffc",
      "metadata": {
        "id": "80de8ffc"
      },
      "source": [
        "1. Crie uma lista qualquer e faça um programa que imprima cada elemento da lista usando o for."
      ]
    },
    {
      "cell_type": "code",
      "source": [
        "lista_1 = [\"Lucas\", \"Maria\", \"João\", \"Diego\"]\n",
        "\n",
        "for nome in lista_1:\n",
        "  print(nome)"
      ],
      "metadata": {
        "colab": {
          "base_uri": "https://localhost:8080/"
        },
        "id": "uMyWZCFU1u3m",
        "outputId": "e4a87db7-ebed-4d73-e763-966854d11a3b"
      },
      "id": "uMyWZCFU1u3m",
      "execution_count": 91,
      "outputs": [
        {
          "output_type": "stream",
          "name": "stdout",
          "text": [
            "Lucas\n",
            "Maria\n",
            "João\n",
            "Diego\n"
          ]
        }
      ]
    },
    {
      "cell_type": "code",
      "source": [
        "lista_1 = [\"Lucas\", \"Maria\", \"João\", \"Diego\"]\n",
        "\n",
        "for indice in range(len(lista_1)):\n",
        "  print(lista_1[indice])\n"
      ],
      "metadata": {
        "colab": {
          "base_uri": "https://localhost:8080/"
        },
        "id": "P4uKbv7_2fnQ",
        "outputId": "6a84d0db-5669-445b-9afb-255e7451ec91"
      },
      "id": "P4uKbv7_2fnQ",
      "execution_count": 93,
      "outputs": [
        {
          "output_type": "stream",
          "name": "stdout",
          "text": [
            "Lucas\n",
            "Maria\n",
            "João\n",
            "Diego\n"
          ]
        }
      ]
    },
    {
      "cell_type": "markdown",
      "id": "5ba15420",
      "metadata": {
        "id": "5ba15420"
      },
      "source": [
        "2. Faça um programa que imprima todos os itens de uma lista usando while e compare com o exercício 1.\n",
        "\n"
      ]
    },
    {
      "cell_type": "code",
      "source": [
        "lista01 = ['a', 'b', 'c', 'd']\n",
        "indice = 0\n",
        "\n",
        "while indice < len(lista01):\n",
        "    print(f\"Item: {lista01[indice]}\")\n",
        "    indice +=1"
      ],
      "metadata": {
        "colab": {
          "base_uri": "https://localhost:8080/"
        },
        "id": "oLt_dYR93Hhk",
        "outputId": "7f05f44b-e757-416a-c992-ef70e5eeb896"
      },
      "id": "oLt_dYR93Hhk",
      "execution_count": 94,
      "outputs": [
        {
          "output_type": "stream",
          "name": "stdout",
          "text": [
            "Item: a\n",
            "Item: b\n",
            "Item: c\n",
            "Item: d\n"
          ]
        }
      ]
    },
    {
      "cell_type": "markdown",
      "id": "b8fc8680",
      "metadata": {
        "id": "b8fc8680"
      },
      "source": [
        "3) Faça um programa que peça para o usuário digitar um número n e imprima uma lista com todos os números de 0 a n-1."
      ]
    },
    {
      "cell_type": "code",
      "source": [
        "lista = []\n",
        "n = int(input(\"Digite um número: \"))\n",
        "\n",
        "for indice in range(0, n):\n",
        "  lista.append(indice)\n",
        "\n",
        "print(lista)"
      ],
      "metadata": {
        "colab": {
          "base_uri": "https://localhost:8080/"
        },
        "id": "BMQ8zKHn3im1",
        "outputId": "4dec6049-34fe-4006-bbc8-d2eb701ffd46"
      },
      "id": "BMQ8zKHn3im1",
      "execution_count": 99,
      "outputs": [
        {
          "output_type": "stream",
          "name": "stdout",
          "text": [
            "Digite um número: 10\n",
            "[0, 1, 2, 3, 4, 5, 6, 7, 8, 9]\n"
          ]
        }
      ]
    },
    {
      "cell_type": "code",
      "source": [
        "n = int(input(\"Digite um número: \"))\n",
        "\n",
        "lista = list(range(n)) #Maneira de criar uma lista de 0 a n-1\n",
        "\n",
        "print(lista)"
      ],
      "metadata": {
        "colab": {
          "base_uri": "https://localhost:8080/"
        },
        "id": "wbFOAADH36Tg",
        "outputId": "45fe7dcb-05a2-4693-f7a0-f71095ae5e0b"
      },
      "id": "wbFOAADH36Tg",
      "execution_count": 96,
      "outputs": [
        {
          "output_type": "stream",
          "name": "stdout",
          "text": [
            "Digite um número: 10\n",
            "[0, 1, 2, 3, 4, 5, 6, 7, 8, 9]\n"
          ]
        }
      ]
    },
    {
      "cell_type": "markdown",
      "id": "2a24e132",
      "metadata": {
        "id": "2a24e132"
      },
      "source": [
        "4. Faça um programa que olhe todos os itens de uma lista e diga quantos deles são pares."
      ]
    },
    {
      "cell_type": "code",
      "source": [
        "numeros = [1, 2, 3, 4, 5, 6, 7, 8, 9, 10]\n",
        "\n",
        "# Preciso de uma variáevl para contar a quantidade pares\n",
        "# Preciso passar por cada elemento da lista e checar se o elemento é par, se for somo mais um na variável de contagem\n",
        "\n",
        "quantidade_pares = 0\n",
        "\n",
        "for n in numeros:\n",
        "  if n % 2 == 0:\n",
        "    quantidade_pares += 1\n",
        "\n",
        "print(quantidade_pares)\n",
        "\n",
        "# Se quisessimos saber quais numeros sao pares\n",
        "\n",
        "pares = []\n",
        "\n",
        "for n in numeros:\n",
        "  if n % 2 == 0:\n",
        "    pares.append(n)\n",
        "\n",
        "print(pares)"
      ],
      "metadata": {
        "colab": {
          "base_uri": "https://localhost:8080/"
        },
        "id": "NOL2IrcH5LYH",
        "outputId": "6b4652ee-aa33-4f32-97ff-958e7b84f1dc"
      },
      "id": "NOL2IrcH5LYH",
      "execution_count": 103,
      "outputs": [
        {
          "output_type": "stream",
          "name": "stdout",
          "text": [
            "5\n",
            "[2, 4, 6, 8, 10]\n"
          ]
        }
      ]
    },
    {
      "cell_type": "markdown",
      "id": "d18b5e09",
      "metadata": {
        "id": "d18b5e09"
      },
      "source": [
        "5. Faça um programa que imprima o maior número de uma lista, sem usar o método max()"
      ]
    },
    {
      "cell_type": "code",
      "source": [
        "lista = [1, 3, 4, 5, 6, 7, 8, 9, 10, 12]\n",
        "\n",
        "max(lista)"
      ],
      "metadata": {
        "id": "WJasGV3CBCN0"
      },
      "id": "WJasGV3CBCN0",
      "execution_count": null,
      "outputs": []
    },
    {
      "cell_type": "code",
      "source": [
        "lista = [12, 3, 4, 5, 6, 7, 8, 9, 10, 1]\n",
        "\n",
        "sorted(lista)[-1]"
      ],
      "metadata": {
        "id": "EL6WrV5EBCnh"
      },
      "id": "EL6WrV5EBCnh",
      "execution_count": null,
      "outputs": []
    },
    {
      "cell_type": "code",
      "source": [
        "lista = [1, 4, -8, 12, 3, -5, 2, -14, 6]\n",
        "maior = lista[0]\n",
        "\n",
        "for elemento in lista:\n",
        "    if elemento > maior:\n",
        "        maior = elemento\n",
        "print(\"O maior elemento da lista é\", maior)"
      ],
      "metadata": {
        "id": "s9ZnbAAmBEDO"
      },
      "id": "s9ZnbAAmBEDO",
      "execution_count": null,
      "outputs": []
    },
    {
      "cell_type": "markdown",
      "id": "de77429c",
      "metadata": {
        "id": "de77429c"
      },
      "source": [
        "6. Agora usando o método max() faça um programa que imprima os três maiores números de uma lista."
      ]
    },
    {
      "cell_type": "code",
      "source": [
        "lista = [1, 4, -8, 12, 3, -5, 2, -14, 6]\n",
        "\n",
        "lista_ordenada = sorted(lista)\n",
        "\n",
        "print(lista_ordenada)\n",
        "\n",
        "max_1 = max(lista_ordenada)\n",
        "max_2 = max(lista_ordenada[:-1]) #considero a lista ordenada sem o último elemento\n",
        "max_3 = max(lista_ordenada[:-2]) #considero a lista ordenada sem o último e sem o penúltimo\n",
        "print(max_1, max_2, max_3)"
      ],
      "metadata": {
        "colab": {
          "base_uri": "https://localhost:8080/"
        },
        "id": "q260isE8BIfN",
        "outputId": "39617c01-179d-4021-93d1-101c39e22d85"
      },
      "id": "q260isE8BIfN",
      "execution_count": 112,
      "outputs": [
        {
          "output_type": "stream",
          "name": "stdout",
          "text": [
            "[-14, -8, -5, 1, 2, 3, 4, 6, 12]\n",
            "12 6 4\n"
          ]
        }
      ]
    },
    {
      "cell_type": "markdown",
      "id": "805a40b8",
      "metadata": {
        "id": "805a40b8"
      },
      "source": [
        "7. Faça um programa que, dadas duas listas de mesmo tamanho, crie uma nova lista com cada elemento igual a soma dos elementos da lista 1 com os da lista 2, na mesma posição."
      ]
    },
    {
      "cell_type": "code",
      "source": [
        "#lista_1 [1,2,3]\n",
        "#lista_2 [4,5,6]\n",
        "\n",
        "#lista_3 [5, 7, 9]\n",
        "\n",
        "lista_1 = [1,4,5]\n",
        "lista_2 = [2,2,3]\n",
        "lista_3 = []\n",
        "\n",
        "if len(lista_1) != len(lista_2):\n",
        "  print(\"As listas tem tamanos diferentes!\")\n",
        "else:\n",
        "  for i in range(len(lista_1)):\n",
        "    valor = lista_1[i] + lista_2[i]\n",
        "    lista_3.append(valor)\n",
        "  print(lista_3)"
      ],
      "metadata": {
        "colab": {
          "base_uri": "https://localhost:8080/"
        },
        "id": "G72rV-qd7RAj",
        "outputId": "6b679ead-8923-48e5-aa34-1f3c217fe009"
      },
      "id": "G72rV-qd7RAj",
      "execution_count": 107,
      "outputs": [
        {
          "output_type": "stream",
          "name": "stdout",
          "text": [
            "[3, 6, 8]\n"
          ]
        }
      ]
    },
    {
      "cell_type": "markdown",
      "id": "d2ee0a79",
      "metadata": {
        "id": "d2ee0a79"
      },
      "source": [
        "8. Faça um programa que dadas duas listas de mesmo tamanho, imprima o produto escalar entre elas."
      ]
    },
    {
      "cell_type": "code",
      "source": [
        "lista1 = [1, 4, 5]\n",
        "lista2 = [2, 2, 3]\n",
        "soma = 0\n",
        "\n",
        "for i in range(len(lista1)):\n",
        "    soma = soma + lista1[i]*lista2[i]\n",
        "print(soma)"
      ],
      "metadata": {
        "id": "zVutgp1oB05c"
      },
      "id": "zVutgp1oB05c",
      "execution_count": null,
      "outputs": []
    },
    {
      "cell_type": "markdown",
      "id": "551c234e",
      "metadata": {
        "id": "551c234e"
      },
      "source": [
        "9. Faça um programa que pede para o usuário digitar 5 números e, ao final, imprime uma lista com os 5 números digitados pelo usuário (sem converter os números para int ou float)."
      ]
    },
    {
      "cell_type": "code",
      "source": [
        "lista = []\n",
        "\n",
        "for i in range(5):\n",
        "  num = input(\"Digite um número\")\n",
        "  lista.append(num)\n",
        "print(lista)"
      ],
      "metadata": {
        "colab": {
          "base_uri": "https://localhost:8080/"
        },
        "id": "ku9zyejC-Qbl",
        "outputId": "3389ff5a-c37b-428c-dbe8-bebb2e2d642f"
      },
      "id": "ku9zyejC-Qbl",
      "execution_count": 108,
      "outputs": [
        {
          "output_type": "stream",
          "name": "stdout",
          "text": [
            "Digite um número5\n",
            "Digite um número6\n",
            "Digite um número7\n",
            "Digite um número8\n",
            "Digite um número9\n",
            "['5', '6', '7', '8', '9']\n"
          ]
        }
      ]
    },
    {
      "cell_type": "markdown",
      "id": "437b4b02",
      "metadata": {
        "id": "437b4b02"
      },
      "source": [
        "10. Pegue a lista gerada no exercício anterior e transforme cada um dos itens dessa lista em um float."
      ]
    },
    {
      "cell_type": "code",
      "source": [
        "for i in range(len(lista)):\n",
        "  lista[i] = float(lista[i])\n",
        "print(lista)\n",
        "#------------------------------\n",
        "lista_nova = []\n",
        "for elemento in lista:\n",
        "  lista_nova.append(float(elemento))\n"
      ],
      "metadata": {
        "colab": {
          "base_uri": "https://localhost:8080/"
        },
        "id": "KZoot-Tz-wI-",
        "outputId": "7e699c72-bdc5-410a-b692-b1537b050c8a"
      },
      "id": "KZoot-Tz-wI-",
      "execution_count": 110,
      "outputs": [
        {
          "output_type": "stream",
          "name": "stdout",
          "text": [
            "[5.0, 6.0, 7.0, 8.0, 9.0]\n"
          ]
        }
      ]
    },
    {
      "cell_type": "markdown",
      "id": "1f274ced",
      "metadata": {
        "id": "1f274ced"
      },
      "source": [
        "11. Faça um Programa que peça as 4 notas bimestrais e mostre a média, usando listas."
      ]
    },
    {
      "cell_type": "code",
      "source": [
        "lista = []\n",
        "\n",
        "for i in range(4):\n",
        "    nota = float(input(\"Digite a nota: \"))\n",
        "    lista.append(nota)\n",
        "print(sum(lista) / len(lista))"
      ],
      "metadata": {
        "id": "bI3DfzlFB3G8"
      },
      "id": "bI3DfzlFB3G8",
      "execution_count": null,
      "outputs": []
    }
  ],
  "metadata": {
    "kernelspec": {
      "display_name": "Python 3 (ipykernel)",
      "language": "python",
      "name": "python3"
    },
    "language_info": {
      "codemirror_mode": {
        "name": "ipython",
        "version": 3
      },
      "file_extension": ".py",
      "mimetype": "text/x-python",
      "name": "python",
      "nbconvert_exporter": "python",
      "pygments_lexer": "ipython3",
      "version": "3.11.0rc1"
    },
    "varInspector": {
      "cols": {
        "lenName": 16,
        "lenType": 16,
        "lenVar": 40
      },
      "kernels_config": {
        "python": {
          "delete_cmd_postfix": "",
          "delete_cmd_prefix": "del ",
          "library": "var_list.py",
          "varRefreshCmd": "print(var_dic_list())"
        },
        "r": {
          "delete_cmd_postfix": ") ",
          "delete_cmd_prefix": "rm(",
          "library": "var_list.r",
          "varRefreshCmd": "cat(var_dic_list()) "
        }
      },
      "types_to_exclude": [
        "module",
        "function",
        "builtin_function_or_method",
        "instance",
        "_Feature"
      ],
      "window_display": false
    },
    "colab": {
      "provenance": []
    }
  },
  "nbformat": 4,
  "nbformat_minor": 5
}