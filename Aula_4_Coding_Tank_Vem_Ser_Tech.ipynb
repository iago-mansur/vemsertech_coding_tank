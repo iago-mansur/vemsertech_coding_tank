{
  "cells": [
    {
      "cell_type": "markdown",
      "id": "341a085c",
      "metadata": {
        "id": "341a085c"
      },
      "source": [
        "<div style=\"background-color: lightgreen; padding: 18px;\">\n",
        "    <h1> Coding Tank | Vem Ser Tech\n",
        "</div>"
      ]
    },
    {
      "cell_type": "markdown",
      "id": "f0230d44",
      "metadata": {
        "id": "f0230d44"
      },
      "source": [
        "<div style=\"background-color: lightblue; padding: 10px;\">\n",
        "    <h2> Tópicos da aula - AULA 4\n",
        "</div>\n",
        "\n",
        "- Loop for\n",
        "- Listas\n",
        "- Índices\n",
        "- Iterações de listas\n",
        "- Métodos de listas"
      ]
    },
    {
      "cell_type": "markdown",
      "id": "ddaaaec8",
      "metadata": {
        "id": "ddaaaec8"
      },
      "source": [
        "E se quisermos fazer o programa que a pessoa digita 10 números e dizemos o maior, conseguimos?\n",
        "\n",
        "E se quisermos o 2° maior? E se quisermos o 5º?\n",
        "\n",
        "Podemos resolver com **listas**\n",
        "\n",
        "- Listas\n",
        "\n",
        "Listas são coleções de objetos em Python e é expressada em `[]`"
      ]
    },
    {
      "cell_type": "markdown",
      "id": "f4bac6d5",
      "metadata": {
        "ExecuteTime": {
          "end_time": "2023-06-29T22:52:13.757377Z",
          "start_time": "2023-06-29T22:52:13.737024Z"
        },
        "id": "f4bac6d5"
      },
      "source": [
        "Existem várias outras funções/métodos de listas que vocês irão aprender no próximo módulo, como:\n",
        "\n",
        "- append\n",
        "- insert\n",
        "- remove\n",
        "- pop\n",
        "- sort\n",
        "- sorted\n",
        "- reverse\n",
        "- index\n",
        "- max, min, len\n",
        "    "
      ]
    },
    {
      "cell_type": "markdown",
      "id": "d9df7da1",
      "metadata": {
        "id": "d9df7da1"
      },
      "source": [
        "**Percorrer a lista**"
      ]
    },
    {
      "cell_type": "markdown",
      "id": "9d63c551",
      "metadata": {
        "id": "9d63c551"
      },
      "source": [
        "**Maneiras de percorrer uma lista**\n",
        "\n",
        "numeros = [1, 3, 5, 7, 9]\n",
        "\n",
        "- Usando while\n",
        "\n",
        "Pros: Eu sei não só o elemento mas sei o indice também   \n",
        "Contra: Eu preciso controlar o índice\n",
        "\n",
        "```python\n",
        "contador = 0\n",
        "while (contador < len(numeros)):\n",
        "    print(numeros[contador])\n",
        "    contador = contador + 1  Se eu esquecer essa linha vira um loop infinito\n",
        "```\n",
        "\n",
        "\n",
        "- Jeito intermediario: for in range\n",
        "\n",
        "Pros: Sei o indice, não preciso controlar o loop  \n",
        "Contra: Precisa saber usar a função range  \n",
        "range(5) ->  [0, 1, 2, 3, 4]\n",
        "\n",
        "```python\n",
        "numeros = [1, 3, 5, 7, 9]\n",
        "for indice in range(len(numeros)):\n",
        "    print(numeros[indice])\n",
        "```\n",
        "\n",
        "\n",
        "- Usando só for (sem índice)\n",
        "\n",
        "Pros: não preciso me preocupar com o índice e nem com loop  \n",
        "Contra: não sei índice\n",
        "\n",
        "```python\n",
        "numeros = [1, 3, 5, 7, 9]\n",
        "for numero in numeros:        numero é uma especie de variavel temporaria, usamos item, elemento, etc\n",
        "    print(numero)\n",
        "```"
      ]
    },
    {
      "cell_type": "markdown",
      "id": "d9b25c6c",
      "metadata": {
        "id": "d9b25c6c"
      },
      "source": [
        "Vamos ver um exemplo:"
      ]
    },
    {
      "cell_type": "markdown",
      "id": "efb6b72d",
      "metadata": {
        "id": "efb6b72d"
      },
      "source": [
        "**Exercícios**"
      ]
    },
    {
      "cell_type": "markdown",
      "id": "80de8ffc",
      "metadata": {
        "id": "80de8ffc"
      },
      "source": [
        "1. Crie uma lista qualquer e faça um programa que imprima cada elemento da lista usando o for."
      ]
    },
    {
      "cell_type": "markdown",
      "id": "5ba15420",
      "metadata": {
        "id": "5ba15420"
      },
      "source": [
        "2. Faça um programa que imprima todos os itens de uma lista usando while e compare com o exercício 1.\n",
        "\n"
      ]
    },
    {
      "cell_type": "markdown",
      "id": "b8fc8680",
      "metadata": {
        "id": "b8fc8680"
      },
      "source": [
        "3) Faça um programa que peça para o usuário digitar um número n e imprima uma lista com todos os números de 0 a n-1."
      ]
    },
    {
      "cell_type": "markdown",
      "id": "2a24e132",
      "metadata": {
        "id": "2a24e132"
      },
      "source": [
        "4. Faça um programa que olhe todos os itens de uma lista e diga quantos deles são pares."
      ]
    },
    {
      "cell_type": "markdown",
      "id": "d18b5e09",
      "metadata": {
        "id": "d18b5e09"
      },
      "source": [
        "5. Faça um programa que imprima o maior número de uma lista, sem usar o método max()"
      ]
    },
    {
      "cell_type": "markdown",
      "id": "de77429c",
      "metadata": {
        "id": "de77429c"
      },
      "source": [
        "6. Agora usando o método max() faça um programa que imprima os três maiores números de uma lista."
      ]
    },
    {
      "cell_type": "markdown",
      "id": "805a40b8",
      "metadata": {
        "id": "805a40b8"
      },
      "source": [
        "7. Faça um programa que, dadas duas listas de mesmo tamanho, crie uma nova lista com cada elemento igual a soma dos elementos da lista 1 com os da lista 2, na mesma posição."
      ]
    },
    {
      "cell_type": "markdown",
      "id": "d2ee0a79",
      "metadata": {
        "id": "d2ee0a79"
      },
      "source": [
        "8. Faça um programa que dadas duas listas de mesmo tamanho, imprima o produto escalar entre elas."
      ]
    },
    {
      "cell_type": "markdown",
      "id": "551c234e",
      "metadata": {
        "id": "551c234e"
      },
      "source": [
        "9. Faça um programa que pede para o usuário digitar 5 números e, ao final, imprime uma lista com os 5 números digitados pelo usuário (sem converter os números para int ou float)."
      ]
    },
    {
      "cell_type": "markdown",
      "id": "437b4b02",
      "metadata": {
        "id": "437b4b02"
      },
      "source": [
        "10. Pegue a lista gerada no exercício anterior e transforme cada um dos itens dessa lista em um float."
      ]
    },
    {
      "cell_type": "markdown",
      "id": "1f274ced",
      "metadata": {
        "id": "1f274ced"
      },
      "source": [
        "11. Faça um Programa que peça as 4 notas bimestrais e mostre a média, usando listas."
      ]
    }
  ],
  "metadata": {
    "kernelspec": {
      "display_name": "Python 3 (ipykernel)",
      "language": "python",
      "name": "python3"
    },
    "language_info": {
      "codemirror_mode": {
        "name": "ipython",
        "version": 3
      },
      "file_extension": ".py",
      "mimetype": "text/x-python",
      "name": "python",
      "nbconvert_exporter": "python",
      "pygments_lexer": "ipython3",
      "version": "3.11.0rc1"
    },
    "varInspector": {
      "cols": {
        "lenName": 16,
        "lenType": 16,
        "lenVar": 40
      },
      "kernels_config": {
        "python": {
          "delete_cmd_postfix": "",
          "delete_cmd_prefix": "del ",
          "library": "var_list.py",
          "varRefreshCmd": "print(var_dic_list())"
        },
        "r": {
          "delete_cmd_postfix": ") ",
          "delete_cmd_prefix": "rm(",
          "library": "var_list.r",
          "varRefreshCmd": "cat(var_dic_list()) "
        }
      },
      "types_to_exclude": [
        "module",
        "function",
        "builtin_function_or_method",
        "instance",
        "_Feature"
      ],
      "window_display": false
    },
    "colab": {
      "provenance": []
    }
  },
  "nbformat": 4,
  "nbformat_minor": 5
}