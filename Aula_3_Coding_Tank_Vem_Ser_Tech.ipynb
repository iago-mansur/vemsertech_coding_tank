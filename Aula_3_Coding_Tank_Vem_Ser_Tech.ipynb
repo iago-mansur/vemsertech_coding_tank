{
  "cells": [
    {
      "cell_type": "markdown",
      "id": "72cae5bf",
      "metadata": {
        "id": "72cae5bf"
      },
      "source": [
        "<div style=\"background-color: lightgreen; padding: 18px;\">\n",
        "    <h1> Coding Tank | Vem Ser Tech\n",
        "</div>"
      ]
    },
    {
      "cell_type": "markdown",
      "id": "36ea7563",
      "metadata": {
        "id": "36ea7563"
      },
      "source": [
        "<div style=\"background-color: lightblue; padding: 10px;\">\n",
        "    <h2> Tópicos da aula - AULA 3\n",
        "</div>\n",
        "    \n",
        "- Estruturas de repetição\n",
        "- Loop while"
      ]
    },
    {
      "cell_type": "markdown",
      "id": "e339739b",
      "metadata": {
        "id": "e339739b"
      },
      "source": [
        "Na aula passada fizemos o programa que a pessoa digitava 2 números e a gente dizia o maior. E se quisermos saber qual o maior entre 3 valores? E se quisermos 10? E se quisermos 100? Conseguimos fazer?"
      ]
    },
    {
      "cell_type": "markdown",
      "id": "3fe6e9ae",
      "metadata": {
        "id": "3fe6e9ae"
      },
      "source": [
        "# Estruturas de Repetição\n",
        "\n",
        "Um **if** não garante que eu consigo validar o valor de um campo pois se o usuário não acertar na 2a vez, ele seguirá inválido"
      ]
    },
    {
      "cell_type": "markdown",
      "id": "04103985",
      "metadata": {
        "id": "04103985"
      },
      "source": [
        "__Obs.__: SEMPRE que eu trabalho com estrutura de repetição (**WHILE**) é NECESSÁRIO que a condição seja alterada dentro do while, SENÃO entro em looping infinito"
      ]
    },
    {
      "cell_type": "markdown",
      "id": "541e4a88",
      "metadata": {
        "id": "541e4a88"
      },
      "source": [
        "<div style=\"background-color: red; padding: 10px;\">\n",
        "    <h2> CUIDADO AO RODAR - é um loop infinito\n",
        "</div>"
      ]
    },
    {
      "cell_type": "markdown",
      "id": "b5f4c9f2",
      "metadata": {
        "id": "b5f4c9f2"
      },
      "source": [
        "__Exemplo:__ Some todos os números de 0 a um número digitado pelo usuário"
      ]
    },
    {
      "cell_type": "markdown",
      "id": "a54f1580",
      "metadata": {
        "id": "a54f1580"
      },
      "source": [
        "Uma outra forma de incrementar um variável"
      ]
    },
    {
      "cell_type": "markdown",
      "id": "fff96799",
      "metadata": {
        "id": "fff96799"
      },
      "source": [
        "# Alguns comandos de manipulação de fluxo\n",
        "\n",
        "Comando **break**: Utilizado para interromper a execução de um laço (for ou while) antes que ele termine normalmente.\n",
        "\n",
        "```python\n",
        "for item in sequencia:\n",
        "    if condicao:\n",
        "        break\n",
        "```\n",
        "\n",
        "Comando **continue**: Utilizado para pular a iteração atual de um laço e continuar com a próxima iteração.\n",
        "\n",
        "\n",
        "```python\n",
        "for item in sequencia:\n",
        "    if condicao:\n",
        "        continue\n",
        "    # O código aqui será executado apenas se a condição for falsa\n",
        "```\n",
        "   \n",
        "Comando **pass**: É usado como espaço reservado para código futuro. Não faz nada e é frequentemente usado para evitar erros de sintaxe em blocos vazios.\n",
        "\n",
        "```python\n",
        "if condicao:\n",
        "    pass  # código será adicionado posteriormente\n",
        "\n",
        "```"
      ]
    },
    {
      "cell_type": "markdown",
      "id": "07ed062c",
      "metadata": {
        "id": "07ed062c"
      },
      "source": [
        "Neste exercício, você deve criar um jogo simples em que o jogador tenta adivinhar um número secreto. O jogo continua até o jogador adivinhar corretamente ou desistir."
      ]
    },
    {
      "cell_type": "markdown",
      "id": "bc0eb076",
      "metadata": {
        "id": "bc0eb076"
      },
      "source": [
        "**Bora praticar!**\n",
        "\n",
        "1) Escreva um programa que solicite um número inteiro e imprima na tela todos os números de 1 até o número digitado, separado por espaços.  \n",
        "_Exemplo_  \n",
        "número digitado: 5  \n",
        "resultado esperado: 1 2 3 4 5\n",
        "\n",
        "2) Faça um programa que mostre o fatorial de um número digitado.  \n",
        "_Exemplo_  \n",
        "número digitado: 5  \n",
        "resultado esperado: 120\n",
        "\n",
        "3) Faça um programa que imprima a tabuada do 9 na tela (entre 1 e 10). Insira a conta, por exemplo, 9 * 1 = 9, sendo cada um dos valores em uma linha diferente.\n",
        "\n",
        "4) Faça um programa em que o usuário digite números quaisquer e encerrará no momento em que o valor 0 seja digitado. Ao final diga qual foi o maior número digitado.\n",
        "\n",
        "5) Faça um script que peça para o usuário digitar a idade, o salário e o sexo de uma pessoa até que as entradas digitadas sejam válidas.  \n",
        "  \n",
        "a. Idade: entre 0 e 150  \n",
        "b. Salário: maior que 0  \n",
        "c. Gênero: M, F ou Outro  \n",
        "  \n",
        "Por último imprima os dados recebidos do usuário.\n",
        "\n",
        "6) Faça uma calculadora. O usuário deve inserir qual a operação matemática ele deseja realizar e logo em seguida os dois números. O programa deve finalizar apenas quando o usuário digitar a opção \"sair\" no momento de escolha da operação matemática.\n",
        "\n"
      ]
    },
    {
      "cell_type": "markdown",
      "id": "647738a0",
      "metadata": {
        "id": "647738a0"
      },
      "source": [
        "## Resolução\n",
        "\n",
        "Coloque a solução dos exercícios abaixo no dontpad.com/turma922\n",
        "\n",
        "\n",
        "1) Escreva um programa que solicite um número inteiro e imprima na tela todos os números de 1 até o número digitado, separado por espaços.  \n",
        "_Exemplo_  \n",
        "número digitado: 5  \n",
        "resultado esperado: 1 2 3 4 5"
      ]
    },
    {
      "cell_type": "markdown",
      "id": "c3814815",
      "metadata": {
        "id": "c3814815"
      },
      "source": [
        "2) Faça um programa que mostre o fatorial de um número digitado.  \n",
        "_Exemplo_  \n",
        "número digitado: 5  \n",
        "resultado esperado: 120"
      ]
    },
    {
      "cell_type": "markdown",
      "id": "8edfd4c8",
      "metadata": {
        "id": "8edfd4c8"
      },
      "source": [
        "3) Faça um programa que imprima a tabuada do 9 na tela (entre 1 e 10). Insira a conta, por exemplo, 9 * 1 = 9, sendo cada um dos valores em uma linha diferente."
      ]
    },
    {
      "cell_type": "markdown",
      "id": "c07b56c5",
      "metadata": {
        "id": "c07b56c5"
      },
      "source": [
        "4) Faça um programa em que o usuário digite números quaisquer e encerrará no momento em que o valor 0 seja digitado. Ao final diga qual foi o maior número digitado."
      ]
    },
    {
      "cell_type": "markdown",
      "id": "7fd3a936",
      "metadata": {
        "id": "7fd3a936"
      },
      "source": [
        "5) Faça um script que peça para o usuário digitar a idade, o salário e o sexo de uma pessoa até que as entradas digitadas sejam válidas.  \n",
        "  \n",
        "a. Idade: entre 0 e 150  \n",
        "b. Salário: maior que 0  \n",
        "c. Gênero: M, F ou Outro  \n",
        "  \n",
        "Por último imprima os dados recebidos do usuário."
      ]
    },
    {
      "cell_type": "markdown",
      "id": "51a71f3b",
      "metadata": {
        "id": "51a71f3b"
      },
      "source": [
        "6) Faça uma calculadora. O usuário deve inserir qual a operação matemática ele deseja realizar e logo em seguida os dois números. O programa deve finalizar apenas quando o usuário digitar a opção \"sair\" no momento de escolha da operação matemática."
      ]
    }
  ],
  "metadata": {
    "kernelspec": {
      "display_name": "Python 3 (ipykernel)",
      "language": "python",
      "name": "python3"
    },
    "language_info": {
      "codemirror_mode": {
        "name": "ipython",
        "version": 3
      },
      "file_extension": ".py",
      "mimetype": "text/x-python",
      "name": "python",
      "nbconvert_exporter": "python",
      "pygments_lexer": "ipython3",
      "version": "3.11.0rc1"
    },
    "colab": {
      "provenance": []
    }
  },
  "nbformat": 4,
  "nbformat_minor": 5
}