{
 "cells": [
  {
   "attachments": {},
   "cell_type": "markdown",
   "metadata": {},
   "source": [
    "1) B"
   ]
  },
  {
   "attachments": {},
   "cell_type": "markdown",
   "metadata": {},
   "source": [
    "2) B"
   ]
  },
  {
   "attachments": {},
   "cell_type": "markdown",
   "metadata": {},
   "source": [
    "3) E"
   ]
  },
  {
   "attachments": {},
   "cell_type": "markdown",
   "metadata": {},
   "source": [
    "4) C"
   ]
  },
  {
   "cell_type": "code",
   "execution_count": null,
   "metadata": {},
   "outputs": [],
   "source": [
    "5) A"
   ]
  },
  {
   "attachments": {},
   "cell_type": "markdown",
   "metadata": {},
   "source": [
    "6) Código abaixo:"
   ]
  },
  {
   "cell_type": "code",
   "execution_count": null,
   "metadata": {},
   "outputs": [],
   "source": [
    "\n",
    "velocidade = 50\n",
    "\n",
    "distancia = float(input('Digite a distância em Km:'))\n",
    "\n",
    "tempo = distancia/velocidade\n",
    "\n",
    "tempo = tempo * 60 # [60 minutos / 1 hora]\n",
    "\n",
    "print(f\"\\nO tempo estimado de entrega é de {tempo} minutos!\")"
   ]
  },
  {
   "attachments": {},
   "cell_type": "markdown",
   "metadata": {},
   "source": [
    "7) Código abaixo:"
   ]
  },
  {
   "cell_type": "code",
   "execution_count": null,
   "metadata": {},
   "outputs": [],
   "source": [
    "x = int(input('Digte um valor inteiro:'))\n",
    "\n",
    "lista_numeros = [x]\n",
    "\n",
    "y = input('Digte S se quiser inserir outro número ou N se não.')\n",
    "\n",
    "while y == 'S':\n",
    "    \n",
    "    x = int(input('Digte outro valor inteiro:'))\n",
    "    \n",
    "    lista_numeros.append(x)\n",
    "    \n",
    "    y = input('Digte S se quiser inserir outro número ou N se não.')\n",
    "\n",
    "print(lista_numeros)\n",
    "\n",
    "print(sorted(lista_numeros))\n",
    "\n",
    "acum = 0\n",
    "\n",
    "for i in lista_numeros:\n",
    "    acum += i\n",
    "\n",
    "print(f'A média é {acum/len(lista_numeros)}')\n",
    "\n",
    "lista_pares = []\n",
    "\n",
    "for j in lista_numeros:\n",
    "\n",
    "    if j%2 == 0:\n",
    "        lista_pares.append(j)\n",
    "\n",
    "print(f'Os números pares são: {lista_pares}')\n",
    "\n",
    "lista_impares = []\n",
    "\n",
    "for k in lista_numeros:\n",
    "\n",
    "    if k%2 != 0:\n",
    "        lista_impares.append(k)\n",
    "\n",
    "print(f'Os números impares são: {lista_impares}')\n",
    "\n",
    "lista_repetidos = []\n",
    "lista_verif_rep = []\n",
    "\n",
    "for t in lista_numeros:\n",
    "\n",
    "    if t in lista_verif_rep:\n",
    "        lista_repetidos = [t]\n",
    "\n",
    "    lista_verif_rep.append(t)\n",
    "    \n",
    "print(f'Os valores repetidos são {lista_repetidos}')"
   ]
  },
  {
   "attachments": {},
   "cell_type": "markdown",
   "metadata": {},
   "source": [
    "8) Código abaixo:"
   ]
  },
  {
   "cell_type": "code",
   "execution_count": null,
   "metadata": {},
   "outputs": [],
   "source": [
    "temperatura = float(input('Insira a temperatura:')) # código para receber o valor numérico da temperatura desejada\n",
    "\n",
    "escalas_validas = ['c', 'k', 'f']\n",
    "\n",
    "escala_original = input('Insira a escala de temperatura original:') # código para receber a escala original da temperatura informada\n",
    "\n",
    "while escala_original not in escalas_validas:\n",
    "    \n",
    "    escala_original = input('Valor inválido para a escala de temperatura original, escolha apenas um dos seguintes valores: c ou k ou f')\n",
    "\n",
    "while temperatura < 0 and escala_original == 'k':\n",
    "    temperatura = float(input('A temperatura em k, não pode ser menor que 0. Insira outro valor de temperatura k.'))\n",
    "    \n",
    "escala_convertida = input('Insira a escala de temperatura a ser convertida:') # código para receber a escala para a qual deseja-se converter a temperatura\n",
    "\n",
    "while escala_original == escala_convertida:\n",
    "\n",
    "    escala_convertida = input('Não é possível converter o valor na mesma escala de temperatura, escolha outra escala')\n",
    "\n",
    "while escala_convertida not in escalas_validas:\n",
    "    \n",
    "    escala_convertida = input('Valor inválido para a escala de temperatura a ser convertida, escolha apenas um dos seguintes valores: c ou k ou f')\n",
    "\n",
    "if escala_original == 'c' and escala_convertida == 'k':\n",
    "    \n",
    "    t_k = temperatura + 273\n",
    "    \n",
    "    if t_k >= 0:\n",
    "\n",
    "        print(f'A temperatura em k é {t_k}')\n",
    "\n",
    "    else:\n",
    "    \n",
    "        print('Erro! Valor impossíve!')\n",
    "\n",
    "elif escala_original == 'c' and escala_convertida == 'f':\n",
    "    \n",
    "    t_f = ((temperatura*9)/5) + 32\n",
    "    print(f'A temperatura em f é {t_f}')\n",
    "\n",
    "elif escala_original == 'f' and escala_convertida == 'c':\n",
    "\n",
    "    t_c = ((temperatura - 32)*5)/9\n",
    "    print(f'A temperatura em c é {t_c}')\n",
    "\n",
    "elif escala_original == 'f' and escala_convertida == 'k':\n",
    "    \n",
    "    t_k = (((temperatura - 32)*5)/9) + 273\n",
    "    \n",
    "    if t_k >= 0:\n",
    "        \n",
    "        print(f'A temperatura em k é {t_k}')\n",
    "\n",
    "    else:\n",
    "\n",
    "        print('Erro! Valor impossíve!')\n",
    "    \n",
    "elif escala_original == 'k' and escala_convertida == 'f':\n",
    "    \n",
    "    t_f = (((temperatura - 273)*9)/5) + 32\n",
    "    print(f'A temperatura em f é {t_f}')\n",
    "\n",
    "elif escala_original == 'k' and escala_convertida == 'c':\n",
    "    t_c = temperatura - 273\n",
    "    print(f'A temperatura em c é {t_c }')"
   ]
  },
  {
   "attachments": {},
   "cell_type": "markdown",
   "metadata": {},
   "source": [
    "9) Código abaixo:"
   ]
  },
  {
   "cell_type": "code",
   "execution_count": null,
   "metadata": {},
   "outputs": [],
   "source": [
    "produtos = [\"Hambúrguer\", \"Fritas\", \"Fritas\", \"Refrigerante\", \"Fritas\", \"Hambúrguer\"]\n",
    "\n",
    "lista_repetidos = []\n",
    "lista_verif_rep = []\n",
    "lista_produto = []\n",
    "\n",
    "for t in produtos:\n",
    "\n",
    "    if t not in lista_verif_rep:\n",
    "        \n",
    "        lista_produto.append(t)\n",
    "\n",
    "    else:\n",
    "        \n",
    "        lista_verif_rep.append(t)\n",
    "    \n",
    "print(f'Os valores não repetidos são {lista_produto}')"
   ]
  }
 ],
 "metadata": {
  "kernelspec": {
   "display_name": "Python 3",
   "language": "python",
   "name": "python3"
  },
  "language_info": {
   "codemirror_mode": {
    "name": "ipython",
    "version": 3
   },
   "file_extension": ".py",
   "mimetype": "text/x-python",
   "name": "python",
   "nbconvert_exporter": "python",
   "pygments_lexer": "ipython3",
   "version": "3.11.3"
  },
  "orig_nbformat": 4
 },
 "nbformat": 4,
 "nbformat_minor": 2
}
